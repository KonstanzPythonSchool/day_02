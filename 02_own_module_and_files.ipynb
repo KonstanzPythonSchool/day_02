{
 "cells": [
  {
   "cell_type": "markdown",
   "metadata": {},
   "source": [
    "# Info\n",
    "## Sections\n",
    "- [Writing-own-modules](#Writing-own-modules)\n",
    "    - [Develop a test case](#Develop-a-test-case)\n",
    "    - [Save the function to a file](#Save-the-function-to-a-file)\n",
    "    - [Create our own module](#Create-our-own-module)"
   ]
  },
  {
   "cell_type": "markdown",
   "metadata": {},
   "source": [
    "# Writing own modules"
   ]
  },
  {
   "cell_type": "markdown",
   "metadata": {},
   "source": [
    "## Develop a test case"
   ]
  },
  {
   "cell_type": "code",
   "execution_count": null,
   "metadata": {
    "ExecuteTime": {
     "end_time": "2018-10-11T12:50:21.688755Z",
     "start_time": "2018-10-11T12:50:21.685872Z"
    }
   },
   "outputs": [],
   "source": [
    "ages = {'Andi':   88, \n",
    "        'Andrew': 78,\n",
    "        'Andy':   85,\n",
    "        'Emily':   6,\n",
    "        'Karren': 45,\n",
    "        'Lewis':  19,\n",
    "        'Peter':  19,\n",
    "        'Petra':  24,\n",
    "        'Sue':    23}\n",
    "locations = {\n",
    "    'Berlin'    : ['Andi', 'Karren', 'Peter', 'Petra'],\n",
    "    'Stuttgart' : ['Andrew', 'Emily'],\n",
    "    'Munich'    : ['Sue'],\n",
    "    'Hamburg'   : ['Andy', 'Lewis'],\n",
    "}"
   ]
  },
  {
   "cell_type": "markdown",
   "metadata": {},
   "source": [
    "<div class='alert alert-block alert-info'>\n",
    "Let's assume we got some big dataset customer, a brief representative test set is presented above. <br>\n",
    "    \n",
    "We got the task to format the data nicely with the following requirements: <br>\n",
    "<ul>\n",
    "  <li>Format of the output:   `<name> is <age> years old and lives in <city>.`</li>\n",
    "  <li>The output should be ordered by the `age` of the persons.</li>\n",
    "</ul>\n",
    "Find a way to represent the data in the given way\n",
    "\n",
    "</div>"
   ]
  },
  {
   "cell_type": "code",
   "execution_count": null,
   "metadata": {
    "ExecuteTime": {
     "end_time": "2018-10-11T12:50:22.202064Z",
     "start_time": "2018-10-11T12:50:22.189534Z"
    }
   },
   "outputs": [],
   "source": []
  },
  {
   "cell_type": "code",
   "execution_count": null,
   "metadata": {
    "ExecuteTime": {
     "end_time": "2018-10-11T12:50:22.378890Z",
     "start_time": "2018-10-11T12:50:22.360044Z"
    }
   },
   "outputs": [],
   "source": []
  },
  {
   "cell_type": "code",
   "execution_count": null,
   "metadata": {
    "ExecuteTime": {
     "end_time": "2018-10-11T12:50:22.534624Z",
     "start_time": "2018-10-11T12:50:22.524939Z"
    }
   },
   "outputs": [],
   "source": []
  },
  {
   "cell_type": "markdown",
   "metadata": {},
   "source": [
    "<div class='alert alert-block alert-info'>\n",
    "Put the routine to find the city to a `name` into a function. <br>\n",
    "So we got an easy loop with only: <br>\n",
    "</div>\n",
    "    \n",
    "```python\n",
    "    city = get_city(name)\n",
    "    print(\"<name> is <age> years old and lives in <city>\")\n",
    "```\n",
    "\n"
   ]
  },
  {
   "cell_type": "code",
   "execution_count": null,
   "metadata": {
    "ExecuteTime": {
     "end_time": "2018-10-11T12:50:23.665767Z",
     "start_time": "2018-10-11T12:50:23.661955Z"
    }
   },
   "outputs": [],
   "source": []
  },
  {
   "cell_type": "markdown",
   "metadata": {},
   "source": [
    "## Save the function to a file"
   ]
  },
  {
   "cell_type": "markdown",
   "metadata": {},
   "source": [
    "<div class='alert alert-block alert-info'>\n",
    "Task: <br>\n",
    "    \n",
    " store every thing into a function.  <br>\n",
    "<ul>\n",
    "  <li> one function `get_city(name) -> city`  </li>\n",
    "<li> one function `main(ages, locations) -> None` (but prints in the format `<name> is <age> years old and lives in) <city>`  </li>\n",
    "<li> test `main()`  </li>\n",
    "</div>"
   ]
  },
  {
   "cell_type": "code",
   "execution_count": null,
   "metadata": {
    "ExecuteTime": {
     "end_time": "2018-10-15T13:29:21.523959Z",
     "start_time": "2018-10-15T13:29:21.496584Z"
    }
   },
   "outputs": [],
   "source": []
  },
  {
   "cell_type": "code",
   "execution_count": null,
   "metadata": {
    "ExecuteTime": {
     "end_time": "2018-10-11T12:50:36.102340Z",
     "start_time": "2018-10-11T12:50:36.096944Z"
    }
   },
   "outputs": [],
   "source": []
  },
  {
   "cell_type": "code",
   "execution_count": null,
   "metadata": {
    "ExecuteTime": {
     "end_time": "2018-10-11T12:50:29.816349Z",
     "start_time": "2018-10-11T12:50:29.812039Z"
    }
   },
   "outputs": [],
   "source": []
  },
  {
   "cell_type": "code",
   "execution_count": null,
   "metadata": {
    "ExecuteTime": {
     "end_time": "2018-10-11T12:50:31.313091Z",
     "start_time": "2018-10-11T12:50:31.266515Z"
    }
   },
   "outputs": [],
   "source": []
  },
  {
   "cell_type": "code",
   "execution_count": null,
   "metadata": {
    "ExecuteTime": {
     "end_time": "2018-10-11T12:50:32.004147Z",
     "start_time": "2018-10-11T12:50:31.947248Z"
    }
   },
   "outputs": [],
   "source": []
  },
  {
   "cell_type": "code",
   "execution_count": null,
   "metadata": {
    "ExecuteTime": {
     "end_time": "2018-10-11T12:50:39.967750Z",
     "start_time": "2018-10-11T12:50:39.963067Z"
    }
   },
   "outputs": [],
   "source": []
  },
  {
   "cell_type": "code",
   "execution_count": null,
   "metadata": {
    "ExecuteTime": {
     "end_time": "2018-10-11T12:50:40.326751Z",
     "start_time": "2018-10-11T12:50:40.321297Z"
    }
   },
   "outputs": [],
   "source": []
  },
  {
   "cell_type": "code",
   "execution_count": null,
   "metadata": {
    "ExecuteTime": {
     "end_time": "2018-10-11T12:50:47.472618Z",
     "start_time": "2018-10-11T12:50:47.466107Z"
    }
   },
   "outputs": [],
   "source": []
  },
  {
   "cell_type": "code",
   "execution_count": null,
   "metadata": {
    "ExecuteTime": {
     "end_time": "2018-10-11T12:50:53.195902Z",
     "start_time": "2018-10-11T12:50:53.184275Z"
    }
   },
   "outputs": [],
   "source": []
  },
  {
   "cell_type": "code",
   "execution_count": null,
   "metadata": {
    "ExecuteTime": {
     "end_time": "2018-10-11T12:50:56.338049Z",
     "start_time": "2018-10-11T12:50:56.290571Z"
    }
   },
   "outputs": [],
   "source": []
  },
  {
   "cell_type": "code",
   "execution_count": null,
   "metadata": {
    "ExecuteTime": {
     "end_time": "2018-10-11T12:50:57.065920Z",
     "start_time": "2018-10-11T12:50:57.051172Z"
    }
   },
   "outputs": [],
   "source": []
  },
  {
   "cell_type": "code",
   "execution_count": null,
   "metadata": {
    "ExecuteTime": {
     "end_time": "2018-10-11T12:50:57.535531Z",
     "start_time": "2018-10-11T12:50:57.523264Z"
    }
   },
   "outputs": [],
   "source": [
    "ages = {'Andi':   88, \n",
    "        'Andrew': 78,\n",
    "        'Andy':   85,\n",
    "        'Emily':   6,\n",
    "        'Karren': 45,\n",
    "        'Lewis':  19,\n",
    "        'Peter':  19,\n",
    "        'Petra':  24,\n",
    "        'Sue':    23}\n",
    "locations = {\n",
    "    'Berlin'    : ['Andi', 'Karren', 'Peter', 'Petra'],\n",
    "    'Stuttgart' : ['Andrew', 'Emily'],\n",
    "    'Munich'    : ['Sue'],\n",
    "    'Hamburg'   : ['Andy', 'Lewis'],\n",
    "}"
   ]
  },
  {
   "cell_type": "code",
   "execution_count": null,
   "metadata": {
    "ExecuteTime": {
     "end_time": "2018-10-11T12:50:57.885771Z",
     "start_time": "2018-10-11T12:50:57.877356Z"
    }
   },
   "outputs": [],
   "source": [
    "import myroutine\n",
    "myroutine.main(ages, locations)"
   ]
  },
  {
   "cell_type": "markdown",
   "metadata": {},
   "source": [
    "We can also import individual functions from it"
   ]
  },
  {
   "cell_type": "code",
   "execution_count": null,
   "metadata": {
    "ExecuteTime": {
     "end_time": "2018-10-11T12:50:58.791777Z",
     "start_time": "2018-10-11T12:50:58.789258Z"
    }
   },
   "outputs": [],
   "source": []
  },
  {
   "cell_type": "markdown",
   "metadata": {},
   "source": [
    "## Create an output"
   ]
  },
  {
   "cell_type": "markdown",
   "metadata": {},
   "source": [
    "The native way to handle context of a file is the `open()` function.\n",
    "\n",
    "It's most important arguments are `file` and `mode`.\n",
    "- `file` : filename\n",
    "- `mode` : \n",
    "    - `r` : read\n",
    "    - `w` : write\n",
    "    - `a` : append \n",
    "    - `rb` : read in binary format\n",
    "    - `wb` : write in binary format\n",
    "    - `ab` : append in binary format"
   ]
  },
  {
   "cell_type": "code",
   "execution_count": null,
   "metadata": {
    "ExecuteTime": {
     "end_time": "2018-10-11T13:05:48.159110Z",
     "start_time": "2018-10-11T13:05:48.156214Z"
    }
   },
   "outputs": [],
   "source": []
  },
  {
   "cell_type": "code",
   "execution_count": null,
   "metadata": {
    "ExecuteTime": {
     "end_time": "2018-10-11T13:05:48.539588Z",
     "start_time": "2018-10-11T13:05:48.531151Z"
    }
   },
   "outputs": [],
   "source": []
  },
  {
   "cell_type": "code",
   "execution_count": null,
   "metadata": {
    "ExecuteTime": {
     "end_time": "2018-10-11T13:05:48.816472Z",
     "start_time": "2018-10-11T13:05:48.810106Z"
    }
   },
   "outputs": [],
   "source": []
  },
  {
   "cell_type": "code",
   "execution_count": null,
   "metadata": {
    "ExecuteTime": {
     "end_time": "2018-10-11T13:07:41.403479Z",
     "start_time": "2018-10-11T13:07:41.399415Z"
    }
   },
   "outputs": [],
   "source": []
  },
  {
   "cell_type": "code",
   "execution_count": null,
   "metadata": {
    "ExecuteTime": {
     "end_time": "2018-10-11T13:08:30.373465Z",
     "start_time": "2018-10-11T13:08:30.369139Z"
    }
   },
   "outputs": [],
   "source": []
  },
  {
   "cell_type": "code",
   "execution_count": null,
   "metadata": {
    "ExecuteTime": {
     "end_time": "2018-10-11T13:23:37.572859Z",
     "start_time": "2018-10-11T13:23:37.565667Z"
    }
   },
   "outputs": [],
   "source": []
  },
  {
   "cell_type": "code",
   "execution_count": null,
   "metadata": {
    "ExecuteTime": {
     "end_time": "2018-10-11T13:23:37.868506Z",
     "start_time": "2018-10-11T13:23:37.858045Z"
    }
   },
   "outputs": [],
   "source": []
  },
  {
   "cell_type": "code",
   "execution_count": null,
   "metadata": {
    "ExecuteTime": {
     "end_time": "2018-10-11T13:24:33.010587Z",
     "start_time": "2018-10-11T13:24:33.001418Z"
    }
   },
   "outputs": [],
   "source": []
  },
  {
   "cell_type": "code",
   "execution_count": null,
   "metadata": {
    "ExecuteTime": {
     "end_time": "2018-10-11T13:24:33.240394Z",
     "start_time": "2018-10-11T13:24:33.231355Z"
    }
   },
   "outputs": [],
   "source": []
  },
  {
   "cell_type": "markdown",
   "metadata": {},
   "source": [
    "<div class='alert alert-block alert-info'>\n",
    "Our customer requires us to store the output into a file which he can use. <br>\n",
    "\n",
    "Task: <br>\n",
    "Extend the main function so we can print the output into a variable file. <br>\n",
    "\n",
    "check the code with:  <br>  \n",
    "</div>\n",
    "\n",
    "```python\n",
    "print(open('results.txt').read())\n",
    "```\n"
   ]
  },
  {
   "cell_type": "markdown",
   "metadata": {},
   "source": [
    "here are our functions again and the variables"
   ]
  },
  {
   "cell_type": "code",
   "execution_count": null,
   "metadata": {
    "ExecuteTime": {
     "end_time": "2018-10-15T13:01:54.180518Z",
     "start_time": "2018-10-15T13:01:54.177803Z"
    }
   },
   "outputs": [],
   "source": [
    "ages = {'Andi':   88, \n",
    "        'Andrew': 78,\n",
    "        'Andy':   85,\n",
    "        'Emily':   6,\n",
    "        'Karren': 45,\n",
    "        'Lewis':  19,\n",
    "        'Peter':  19,\n",
    "        'Petra':  24,\n",
    "        'Sue':    23}\n",
    "locations = {\n",
    "    'Berlin'    : ['Andi', 'Karren', 'Peter', 'Petra'],\n",
    "    'Stuttgart' : ['Andrew', 'Emily'],\n",
    "    'Munich'    : ['Sue'],\n",
    "    'Hamburg'   : ['Andy', 'Lewis'],\n",
    "}"
   ]
  },
  {
   "cell_type": "code",
   "execution_count": null,
   "metadata": {
    "ExecuteTime": {
     "end_time": "2018-10-15T13:01:54.491002Z",
     "start_time": "2018-10-15T13:01:54.390278Z"
    }
   },
   "outputs": [],
   "source": [
    "#%%writefile myroutine.py\n",
    "def get_city(name, locations):\n",
    "    \"Function to get the city for a person\"\n",
    "    found = None\n",
    "    for city, members in locations.items():\n",
    "        if name in members:\n",
    "            found=city\n",
    "            return found\n",
    "    assert found is not None, \"No City found\"\n",
    "\n",
    "def main(ages, locations):\n",
    "    \"our main function\"\n",
    "    sorted_list = sorted(ages.items(), key=lambda x: x[1])\n",
    "    for name, age in sorted_list:\n",
    "        city = get_city(name, locations)\n",
    "        print('{} is {} years old and lives in {}.'.format(name, age, city))"
   ]
  },
  {
   "cell_type": "code",
   "execution_count": null,
   "metadata": {
    "ExecuteTime": {
     "end_time": "2018-10-15T13:01:55.092137Z",
     "start_time": "2018-10-15T13:01:55.088329Z"
    }
   },
   "outputs": [],
   "source": []
  },
  {
   "cell_type": "code",
   "execution_count": null,
   "metadata": {
    "ExecuteTime": {
     "end_time": "2018-10-15T13:01:55.435076Z",
     "start_time": "2018-10-15T13:01:55.423973Z"
    }
   },
   "outputs": [],
   "source": []
  },
  {
   "cell_type": "markdown",
   "metadata": {},
   "source": [
    "## Create our own real module"
   ]
  },
  {
   "cell_type": "markdown",
   "metadata": {},
   "source": [
    "Structure of a module\n",
    "```text\n",
    ".\n",
    "└── module_name\n",
    "    ├── __init__.py\n",
    "    ├── somefunc.py\n",
    "    └── submodule\n",
    "        ├── __init__.py\n",
    "        └── someotherfunc.py\n",
    "```"
   ]
  },
  {
   "cell_type": "code",
   "execution_count": null,
   "metadata": {
    "ExecuteTime": {
     "end_time": "2018-10-11T13:44:52.179875Z",
     "start_time": "2018-10-11T13:44:52.161495Z"
    }
   },
   "outputs": [],
   "source": []
  },
  {
   "cell_type": "code",
   "execution_count": null,
   "metadata": {
    "ExecuteTime": {
     "end_time": "2018-10-11T13:45:24.122136Z",
     "start_time": "2018-10-11T13:45:24.120086Z"
    }
   },
   "outputs": [],
   "source": []
  },
  {
   "cell_type": "code",
   "execution_count": null,
   "metadata": {
    "ExecuteTime": {
     "end_time": "2018-10-11T13:45:56.796618Z",
     "start_time": "2018-10-11T13:45:56.787849Z"
    }
   },
   "outputs": [],
   "source": []
  },
  {
   "cell_type": "code",
   "execution_count": null,
   "metadata": {
    "ExecuteTime": {
     "end_time": "2018-10-11T13:49:32.472483Z",
     "start_time": "2018-10-11T13:49:32.468917Z"
    }
   },
   "outputs": [],
   "source": []
  },
  {
   "cell_type": "code",
   "execution_count": null,
   "metadata": {
    "ExecuteTime": {
     "end_time": "2018-10-11T13:53:45.681172Z",
     "start_time": "2018-10-11T13:53:45.676672Z"
    }
   },
   "outputs": [],
   "source": []
  },
  {
   "cell_type": "code",
   "execution_count": null,
   "metadata": {
    "ExecuteTime": {
     "end_time": "2018-10-11T13:53:45.942490Z",
     "start_time": "2018-10-11T13:53:45.936862Z"
    }
   },
   "outputs": [],
   "source": []
  },
  {
   "cell_type": "code",
   "execution_count": null,
   "metadata": {
    "ExecuteTime": {
     "end_time": "2018-10-11T13:54:40.259741Z",
     "start_time": "2018-10-11T13:54:39.975873Z"
    }
   },
   "outputs": [],
   "source": []
  },
  {
   "cell_type": "code",
   "execution_count": null,
   "metadata": {
    "ExecuteTime": {
     "end_time": "2018-10-11T13:55:54.467829Z",
     "start_time": "2018-10-11T13:55:54.462856Z"
    }
   },
   "outputs": [],
   "source": []
  },
  {
   "cell_type": "code",
   "execution_count": null,
   "metadata": {
    "ExecuteTime": {
     "end_time": "2018-10-11T13:55:55.945369Z",
     "start_time": "2018-10-11T13:55:55.899016Z"
    }
   },
   "outputs": [],
   "source": []
  },
  {
   "cell_type": "code",
   "execution_count": null,
   "metadata": {
    "ExecuteTime": {
     "end_time": "2018-10-11T13:55:56.417589Z",
     "start_time": "2018-10-11T13:55:56.404274Z"
    }
   },
   "outputs": [],
   "source": []
  },
  {
   "cell_type": "code",
   "execution_count": null,
   "metadata": {
    "ExecuteTime": {
     "end_time": "2018-10-11T13:56:12.344360Z",
     "start_time": "2018-10-11T13:56:12.331618Z"
    }
   },
   "outputs": [],
   "source": []
  },
  {
   "cell_type": "markdown",
   "metadata": {},
   "source": [
    "# Run a own file"
   ]
  },
  {
   "cell_type": "markdown",
   "metadata": {},
   "source": [
    "Let's make our file `myroutine.py` importable but also executable as python script."
   ]
  },
  {
   "cell_type": "code",
   "execution_count": null,
   "metadata": {
    "ExecuteTime": {
     "end_time": "2018-10-11T14:25:42.155549Z",
     "start_time": "2018-10-11T14:25:42.152043Z"
    }
   },
   "outputs": [],
   "source": [
    "%%writefile myroutine.py\n",
    "\n",
    "def get_city(name, locations):\n",
    "    \"Function to get the city for a person\"\n",
    "    found = None\n",
    "    for city, members in locations.items():\n",
    "        if name in members:\n",
    "            found=city\n",
    "            return found\n",
    "    assert found is not None, \"No City found\"\n",
    "\n",
    "def main(ages, locations, fname='results.txt'):\n",
    "    \"our main function\"\n",
    "    sorted_list = sorted(ages.items(), key=lambda x: x[1])\n",
    "    fp = open(fname, 'w')\n",
    "    for name, age in sorted_list:\n",
    "        city = get_city(name, locations)\n",
    "        fp.write('{} is {} years old and lives in {}.\\n'.format(name, age, city))\n",
    "    fp.close()"
   ]
  },
  {
   "cell_type": "code",
   "execution_count": null,
   "metadata": {
    "ExecuteTime": {
     "end_time": "2018-10-11T14:29:41.191455Z",
     "start_time": "2018-10-11T14:29:41.187833Z"
    }
   },
   "outputs": [],
   "source": []
  },
  {
   "cell_type": "code",
   "execution_count": null,
   "metadata": {
    "ExecuteTime": {
     "end_time": "2018-10-11T14:29:50.622976Z",
     "start_time": "2018-10-11T14:29:50.612889Z"
    }
   },
   "outputs": [],
   "source": []
  },
  {
   "cell_type": "code",
   "execution_count": null,
   "metadata": {
    "ExecuteTime": {
     "end_time": "2018-10-11T14:30:51.394761Z",
     "start_time": "2018-10-11T14:30:51.383277Z"
    }
   },
   "outputs": [],
   "source": []
  },
  {
   "cell_type": "code",
   "execution_count": null,
   "metadata": {
    "ExecuteTime": {
     "end_time": "2018-10-11T14:32:17.011261Z",
     "start_time": "2018-10-11T14:32:17.008629Z"
    }
   },
   "outputs": [],
   "source": []
  },
  {
   "cell_type": "code",
   "execution_count": null,
   "metadata": {
    "ExecuteTime": {
     "end_time": "2018-10-11T14:34:41.128549Z",
     "start_time": "2018-10-11T14:34:41.120776Z"
    }
   },
   "outputs": [],
   "source": []
  },
  {
   "cell_type": "code",
   "execution_count": null,
   "metadata": {
    "ExecuteTime": {
     "end_time": "2018-10-11T14:34:41.326492Z",
     "start_time": "2018-10-11T14:34:41.316306Z"
    }
   },
   "outputs": [],
   "source": []
  },
  {
   "cell_type": "code",
   "execution_count": null,
   "metadata": {
    "ExecuteTime": {
     "end_time": "2018-10-11T14:34:42.260759Z",
     "start_time": "2018-10-11T14:34:42.211003Z"
    }
   },
   "outputs": [],
   "source": []
  },
  {
   "cell_type": "code",
   "execution_count": null,
   "metadata": {
    "ExecuteTime": {
     "end_time": "2018-10-11T14:35:39.284890Z",
     "start_time": "2018-10-11T14:35:39.279030Z"
    }
   },
   "outputs": [],
   "source": []
  },
  {
   "cell_type": "code",
   "execution_count": null,
   "metadata": {
    "ExecuteTime": {
     "end_time": "2018-10-11T14:35:58.583987Z",
     "start_time": "2018-10-11T14:35:58.550357Z"
    }
   },
   "outputs": [],
   "source": []
  },
  {
   "cell_type": "code",
   "execution_count": null,
   "metadata": {
    "ExecuteTime": {
     "end_time": "2018-10-11T14:36:00.105122Z",
     "start_time": "2018-10-11T14:36:00.040136Z"
    }
   },
   "outputs": [],
   "source": []
  },
  {
   "cell_type": "code",
   "execution_count": null,
   "metadata": {
    "ExecuteTime": {
     "end_time": "2018-10-11T14:57:45.547654Z",
     "start_time": "2018-10-11T14:57:45.545779Z"
    }
   },
   "outputs": [],
   "source": []
  },
  {
   "cell_type": "code",
   "execution_count": null,
   "metadata": {
    "ExecuteTime": {
     "end_time": "2018-10-11T14:57:45.744036Z",
     "start_time": "2018-10-11T14:57:45.738868Z"
    }
   },
   "outputs": [],
   "source": []
  },
  {
   "cell_type": "code",
   "execution_count": null,
   "metadata": {
    "ExecuteTime": {
     "end_time": "2018-10-11T14:58:02.899688Z",
     "start_time": "2018-10-11T14:58:02.897394Z"
    }
   },
   "outputs": [],
   "source": []
  },
  {
   "cell_type": "code",
   "execution_count": null,
   "metadata": {
    "ExecuteTime": {
     "end_time": "2018-10-11T14:58:03.948453Z",
     "start_time": "2018-10-11T14:58:03.932923Z"
    }
   },
   "outputs": [],
   "source": []
  },
  {
   "cell_type": "code",
   "execution_count": null,
   "metadata": {
    "ExecuteTime": {
     "end_time": "2018-10-11T14:58:09.266905Z",
     "start_time": "2018-10-11T14:58:09.263073Z"
    }
   },
   "outputs": [],
   "source": []
  },
  {
   "cell_type": "code",
   "execution_count": null,
   "metadata": {},
   "outputs": [],
   "source": []
  },
  {
   "cell_type": "code",
   "execution_count": null,
   "metadata": {
    "ExecuteTime": {
     "end_time": "2018-10-11T15:02:07.230015Z",
     "start_time": "2018-10-11T15:02:07.227232Z"
    }
   },
   "outputs": [],
   "source": []
  },
  {
   "cell_type": "code",
   "execution_count": null,
   "metadata": {
    "ExecuteTime": {
     "end_time": "2018-10-11T15:04:05.705062Z",
     "start_time": "2018-10-11T15:04:05.695217Z"
    }
   },
   "outputs": [],
   "source": []
  },
  {
   "cell_type": "code",
   "execution_count": null,
   "metadata": {
    "ExecuteTime": {
     "end_time": "2018-10-11T15:11:43.363801Z",
     "start_time": "2018-10-11T15:11:43.353451Z"
    }
   },
   "outputs": [],
   "source": []
  },
  {
   "cell_type": "code",
   "execution_count": null,
   "metadata": {
    "ExecuteTime": {
     "end_time": "2018-10-11T15:11:47.864295Z",
     "start_time": "2018-10-11T15:11:47.859284Z"
    }
   },
   "outputs": [],
   "source": []
  },
  {
   "cell_type": "code",
   "execution_count": null,
   "metadata": {
    "ExecuteTime": {
     "end_time": "2018-10-11T15:11:48.155478Z",
     "start_time": "2018-10-11T15:11:48.145521Z"
    }
   },
   "outputs": [],
   "source": []
  }
 ],
 "metadata": {
  "kernelspec": {
   "display_name": "Python 3",
   "language": "python",
   "name": "python3"
  },
  "language_info": {
   "codemirror_mode": {
    "name": "ipython",
    "version": 3
   },
   "file_extension": ".py",
   "mimetype": "text/x-python",
   "name": "python",
   "nbconvert_exporter": "python",
   "pygments_lexer": "ipython3",
   "version": "3.5.2"
  },
  "toc": {
   "base_numbering": 1,
   "nav_menu": {},
   "number_sections": true,
   "sideBar": true,
   "skip_h1_title": false,
   "title_cell": "Table of Contents",
   "title_sidebar": "Contents",
   "toc_cell": false,
   "toc_position": {
    "height": "calc(100% - 180px)",
    "left": "10px",
    "top": "150px",
    "width": "243.628px"
   },
   "toc_section_display": true,
   "toc_window_display": true
  }
 },
 "nbformat": 4,
 "nbformat_minor": 2
}
