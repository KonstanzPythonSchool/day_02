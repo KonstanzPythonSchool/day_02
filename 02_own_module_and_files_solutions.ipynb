{
 "cells": [
  {
   "cell_type": "markdown",
   "metadata": {},
   "source": [
    "# Info\n",
    "## Sections\n",
    "- [Writing-own-modules](#Writing-own-modules)\n",
    "    - [Develop a test case](#Develop-a-test-case)\n",
    "    - [Save the function to a file](#Save-the-function-to-a-file)\n",
    "    - [Create our own module](#Create-our-own-module)"
   ]
  },
  {
   "cell_type": "markdown",
   "metadata": {},
   "source": [
    "# Writing own modules"
   ]
  },
  {
   "cell_type": "markdown",
   "metadata": {},
   "source": [
    "## Develop a test case"
   ]
  },
  {
   "cell_type": "markdown",
   "metadata": {},
   "source": [
    "At first we need a function that do some work."
   ]
  },
  {
   "cell_type": "code",
   "execution_count": 1,
   "metadata": {
    "ExecuteTime": {
     "end_time": "2018-10-11T12:50:21.688755Z",
     "start_time": "2018-10-11T12:50:21.685872Z"
    }
   },
   "outputs": [],
   "source": [
    "ages = {'Andi':   88, \n",
    "        'Andrew': 78,\n",
    "        'Andy':   85,\n",
    "        'Emily':   6,\n",
    "        'Karren': 45,\n",
    "        'Lewis':  19,\n",
    "        'Peter':  19,\n",
    "        'Petra':  24,\n",
    "        'Sue':    23}\n",
    "locations = {\n",
    "    'Berlin'    : ['Andi', 'Karren', 'Peter', 'Petra'],\n",
    "    'Stuttgart' : ['Andrew', 'Emily'],\n",
    "    'Munich'    : ['Sue'],\n",
    "    'Hamburg'   : ['Andy', 'Lewis'],\n",
    "}"
   ]
  },
  {
   "cell_type": "markdown",
   "metadata": {},
   "source": [
    "<div class='alert alert-block alert-info'>\n",
    "Let's assume we got some big dataset customer, a brief representative test set is presented above. <br>\n",
    "    \n",
    "We got the task to format the data nicely with the following requirements: <br>\n",
    "<ul>\n",
    "  <li>Format of the output:   `<name> is <age> years old and lives in <city>.`</li>\n",
    "  <li>The output should be ordered by the `age` of the persons.</li>\n",
    "</ul>\n",
    "Find a way to represent the data in the given way\n",
    "\n",
    "</div>"
   ]
  },
  {
   "cell_type": "code",
   "execution_count": 3,
   "metadata": {
    "ExecuteTime": {
     "end_time": "2018-10-11T12:50:22.202064Z",
     "start_time": "2018-10-11T12:50:22.189534Z"
    }
   },
   "outputs": [
    {
     "name": "stdout",
     "output_type": "stream",
     "text": [
      "Emily is 6 years old and lives in Stuttgart.\n",
      "Lewis is 19 years old and lives in Hamburg.\n",
      "Peter is 19 years old and lives in Berlin.\n",
      "Sue is 23 years old and lives in Munich.\n",
      "Petra is 24 years old and lives in Berlin.\n",
      "Karren is 45 years old and lives in Berlin.\n",
      "Andrew is 78 years old and lives in Stuttgart.\n",
      "Andy is 85 years old and lives in Hamburg.\n",
      "Andi is 88 years old and lives in Berlin.\n"
     ]
    }
   ],
   "source": [
    "#@solution \n",
    "# Version 1 \n",
    "# using OrderedDict\n",
    "from collections import OrderedDict\n",
    "\n",
    "sorted_list = sorted(ages.items(), key=lambda x: x[1])\n",
    "ages_ordered = OrderedDict(sorted_list)\n",
    "\n",
    "for name, age in ages_ordered.items():\n",
    "    city = [city for city, members in locations.items() if name in members][0]\n",
    "    print('{} is {} years old and lives in {}.'.format(name, age, city))"
   ]
  },
  {
   "cell_type": "code",
   "execution_count": 4,
   "metadata": {
    "ExecuteTime": {
     "end_time": "2018-10-11T12:50:22.378890Z",
     "start_time": "2018-10-11T12:50:22.360044Z"
    }
   },
   "outputs": [
    {
     "name": "stdout",
     "output_type": "stream",
     "text": [
      "Emily is 6 years old and lives in Stuttgart.\n",
      "Lewis is 19 years old and lives in Hamburg.\n",
      "Peter is 19 years old and lives in Berlin.\n",
      "Sue is 23 years old and lives in Munich.\n",
      "Petra is 24 years old and lives in Berlin.\n",
      "Karren is 45 years old and lives in Berlin.\n",
      "Andrew is 78 years old and lives in Stuttgart.\n",
      "Andy is 85 years old and lives in Hamburg.\n",
      "Andi is 88 years old and lives in Berlin.\n"
     ]
    }
   ],
   "source": [
    "#@solution \n",
    "# Version 2\n",
    "# iterate over a list of tuples\n",
    "sorted_list = sorted(ages.items(), key=lambda x: x[1])\n",
    "\n",
    "for name, age in sorted_list:\n",
    "    city = [city for city, members in locations.items() if name in members][0]\n",
    "    print('{} is {} years old and lives in {}.'.format(name, age, city))"
   ]
  },
  {
   "cell_type": "code",
   "execution_count": 5,
   "metadata": {
    "ExecuteTime": {
     "end_time": "2018-10-11T12:50:22.534624Z",
     "start_time": "2018-10-11T12:50:22.524939Z"
    }
   },
   "outputs": [
    {
     "name": "stdout",
     "output_type": "stream",
     "text": [
      "Emily is 6 years old and lives in Stuttgart.\n",
      "Lewis is 19 years old and lives in Hamburg.\n",
      "Peter is 19 years old and lives in Berlin.\n",
      "Sue is 23 years old and lives in Munich.\n",
      "Petra is 24 years old and lives in Berlin.\n",
      "Karren is 45 years old and lives in Berlin.\n",
      "Andrew is 78 years old and lives in Stuttgart.\n",
      "Andy is 85 years old and lives in Hamburg.\n",
      "Andi is 88 years old and lives in Berlin.\n"
     ]
    }
   ],
   "source": [
    "#@solution \n",
    "# Version 3 \n",
    "# iterate over a list of tuples with inner loop\n",
    "sorted_list = sorted(ages.items(), key=lambda x: x[1])\n",
    "\n",
    "for name, age in sorted_list:\n",
    "    found = None\n",
    "    for city, members in locations.items():\n",
    "        if name in members:\n",
    "            found=city\n",
    "            break\n",
    "    assert found is not None, \"No City found\"\n",
    "    city = found\n",
    "    print('{} is {} years old and lives in {}.'.format(name, age, city))"
   ]
  },
  {
   "cell_type": "markdown",
   "metadata": {},
   "source": [
    "<div class='alert alert-block alert-info'>\n",
    "Put the routine to find the city to a `name` into a function. <br>\n",
    "So we got an easy loop with only: <br>\n",
    "</div>\n",
    "    \n",
    "```python\n",
    "    city = get_city(name)\n",
    "    print(\"<name> is <age> years old and lives in <city>\")\n",
    "```\n",
    "\n"
   ]
  },
  {
   "cell_type": "code",
   "execution_count": 6,
   "metadata": {
    "ExecuteTime": {
     "end_time": "2018-10-11T12:50:23.665767Z",
     "start_time": "2018-10-11T12:50:23.661955Z"
    }
   },
   "outputs": [
    {
     "name": "stdout",
     "output_type": "stream",
     "text": [
      "Emily is 6 years old and lives in Stuttgart.\n",
      "Lewis is 19 years old and lives in Hamburg.\n",
      "Peter is 19 years old and lives in Berlin.\n",
      "Sue is 23 years old and lives in Munich.\n",
      "Petra is 24 years old and lives in Berlin.\n",
      "Karren is 45 years old and lives in Berlin.\n",
      "Andrew is 78 years old and lives in Stuttgart.\n",
      "Andy is 85 years old and lives in Hamburg.\n",
      "Andi is 88 years old and lives in Berlin.\n"
     ]
    }
   ],
   "source": [
    "#@solution\n",
    "def get_city(name):\n",
    "    \"Function to get the city for a person\"\n",
    "    found = None\n",
    "    for city, members in locations.items():\n",
    "        if name in members:\n",
    "            found=city\n",
    "            return found\n",
    "    assert found is not None, \"No City found\"\n",
    "\n",
    "sorted_list = sorted(ages.items(), key=lambda x: x[1])\n",
    "for name, age in sorted_list:\n",
    "    city = get_city(name)\n",
    "    print('{} is {} years old and lives in {}.'.format(name, age, city))"
   ]
  },
  {
   "cell_type": "markdown",
   "metadata": {},
   "source": [
    "## Save the function to a file"
   ]
  },
  {
   "cell_type": "markdown",
   "metadata": {},
   "source": [
    "<div class='alert alert-block alert-info'>\n",
    "Task: <br>\n",
    "    \n",
    " store every thing into a function.  <br>\n",
    "<ul>\n",
    "  <li> one function `get_city(name) -> city`  </li>\n",
    "<li> one function `main(ages, locations) -> None` (but prints in the format `<name> is <age> years old and lives in) <city>`  </li>\n",
    "<li> test `main()`  </li>\n",
    "</div>"
   ]
  },
  {
   "cell_type": "code",
   "execution_count": 7,
   "metadata": {
    "ExecuteTime": {
     "end_time": "2018-10-15T13:29:21.523959Z",
     "start_time": "2018-10-15T13:29:21.496584Z"
    }
   },
   "outputs": [
    {
     "name": "stdout",
     "output_type": "stream",
     "text": [
      "Emily is 6 years old and lives in Stuttgart.\n",
      "Lewis is 19 years old and lives in Hamburg.\n",
      "Peter is 19 years old and lives in Berlin.\n",
      "Sue is 23 years old and lives in Munich.\n",
      "Petra is 24 years old and lives in Berlin.\n",
      "Karren is 45 years old and lives in Berlin.\n",
      "Andrew is 78 years old and lives in Stuttgart.\n",
      "Andy is 85 years old and lives in Hamburg.\n",
      "Andi is 88 years old and lives in Berlin.\n"
     ]
    }
   ],
   "source": [
    "#@solution\n",
    "def get_city(name):\n",
    "    \"Function to get the city for a person\"\n",
    "    found = None\n",
    "    for city, members in locations.items():\n",
    "        if name in members:\n",
    "            found=city\n",
    "            return found\n",
    "    assert found is not None, \"No City found\"\n",
    "\n",
    "def main(ages, locations):\n",
    "    sorted_list = sorted(ages.items(), key=lambda x: x[1])\n",
    "    for name, age in sorted_list:\n",
    "        city = get_city(name)\n",
    "        print('{} is {} years old and lives in {}.'.format(name, age, city))\n",
    "\n",
    "main(ages, locations)"
   ]
  },
  {
   "cell_type": "markdown",
   "metadata": {},
   "source": [
    "You can save the content of a cell into a `.py` file using so call [Built-in magic commands](https://ipython.readthedocs.io/en/stable/interactive/magics.html)\n",
    "* Line magics start with `%command` are commands only run in that line\n",
    "* cell magics start with `%%comannd` and are executed for the whole cell\n",
    "\n",
    "- use `%%writefile myscript.py` to write the content of a cell to a file"
   ]
  },
  {
   "cell_type": "code",
   "execution_count": 8,
   "metadata": {
    "ExecuteTime": {
     "end_time": "2018-10-11T12:50:36.102340Z",
     "start_time": "2018-10-11T12:50:36.096944Z"
    }
   },
   "outputs": [
    {
     "ename": "SyntaxError",
     "evalue": "invalid syntax (<ipython-input-8-024600c32dcf>, line 2)",
     "output_type": "error",
     "traceback": [
      "\u001b[0;36m  File \u001b[0;32m\"<ipython-input-8-024600c32dcf>\"\u001b[0;36m, line \u001b[0;32m2\u001b[0m\n\u001b[0;31m    %%writefile myroutine.py\u001b[0m\n\u001b[0m    ^\u001b[0m\n\u001b[0;31mSyntaxError\u001b[0m\u001b[0;31m:\u001b[0m invalid syntax\n"
     ]
    }
   ],
   "source": [
    "#@solution\n",
    "%%writefile myroutine.py\n",
    "# Note: %%writefile myroutine.py has to be the first command of a line. (remove #@solution)\n",
    "\n",
    "def get_city(name):\n",
    "    \"Function to get the city for a person\"\n",
    "    found = None\n",
    "    for city, members in locations.items():\n",
    "        if name in members:\n",
    "            found=city\n",
    "            return found\n",
    "    assert found is not None, \"No City found\"\n",
    "\n",
    "def main(ages, locations):\n",
    "    \"our main function\"\n",
    "    sorted_list = sorted(ages.items(), key=lambda x: x[1])\n",
    "    for name, age in sorted_list:\n",
    "        city = get_city(name)\n",
    "        print('{} is {} years old and lives in {}.'.format(name, age, city))"
   ]
  },
  {
   "cell_type": "markdown",
   "metadata": {},
   "source": [
    "The content is now written to `myroutine.py`.\n",
    "But not executed for us. We can check it by using `help(main)` and see if our `docstring` is here."
   ]
  },
  {
   "cell_type": "code",
   "execution_count": 9,
   "metadata": {
    "ExecuteTime": {
     "end_time": "2018-10-11T12:50:29.816349Z",
     "start_time": "2018-10-11T12:50:29.812039Z"
    }
   },
   "outputs": [
    {
     "name": "stdout",
     "output_type": "stream",
     "text": [
      "Help on function main in module __main__:\n",
      "\n",
      "main(ages, locations)\n",
      "\n"
     ]
    }
   ],
   "source": [
    "#@solution\n",
    "help(main)"
   ]
  },
  {
   "cell_type": "markdown",
   "metadata": {},
   "source": [
    " \n",
    "\n",
    "Let's `import` `myroutine` and check it out"
   ]
  },
  {
   "cell_type": "code",
   "execution_count": 10,
   "metadata": {
    "ExecuteTime": {
     "end_time": "2018-10-11T12:50:31.313091Z",
     "start_time": "2018-10-11T12:50:31.266515Z"
    }
   },
   "outputs": [
    {
     "ename": "ImportError",
     "evalue": "No module named 'myroutine'",
     "output_type": "error",
     "traceback": [
      "\u001b[0;31m---------------------------------------------------------------------------\u001b[0m",
      "\u001b[0;31mImportError\u001b[0m                               Traceback (most recent call last)",
      "\u001b[0;32m<ipython-input-10-f0b018f59f0a>\u001b[0m in \u001b[0;36m<module>\u001b[0;34m()\u001b[0m\n\u001b[1;32m      1\u001b[0m \u001b[0;31m#@solution\u001b[0m\u001b[0;34m\u001b[0m\u001b[0;34m\u001b[0m\u001b[0m\n\u001b[0;32m----> 2\u001b[0;31m \u001b[0;32mimport\u001b[0m \u001b[0mmyroutine\u001b[0m\u001b[0;34m\u001b[0m\u001b[0m\n\u001b[0m",
      "\u001b[0;31mImportError\u001b[0m: No module named 'myroutine'"
     ]
    }
   ],
   "source": [
    "#@solution\n",
    "import myroutine"
   ]
  },
  {
   "cell_type": "code",
   "execution_count": 11,
   "metadata": {
    "ExecuteTime": {
     "end_time": "2018-10-11T12:50:32.004147Z",
     "start_time": "2018-10-11T12:50:31.947248Z"
    }
   },
   "outputs": [
    {
     "ename": "NameError",
     "evalue": "name 'myroutine' is not defined",
     "output_type": "error",
     "traceback": [
      "\u001b[0;31m---------------------------------------------------------------------------\u001b[0m",
      "\u001b[0;31mNameError\u001b[0m                                 Traceback (most recent call last)",
      "\u001b[0;32m<ipython-input-11-03508a9a4162>\u001b[0m in \u001b[0;36m<module>\u001b[0;34m()\u001b[0m\n\u001b[1;32m      1\u001b[0m \u001b[0;31m#@solution\u001b[0m\u001b[0;34m\u001b[0m\u001b[0;34m\u001b[0m\u001b[0m\n\u001b[0;32m----> 2\u001b[0;31m \u001b[0mmyroutine\u001b[0m\u001b[0;34m.\u001b[0m\u001b[0mmain\u001b[0m\u001b[0;34m(\u001b[0m\u001b[0mages\u001b[0m\u001b[0;34m,\u001b[0m \u001b[0mlocations\u001b[0m\u001b[0;34m)\u001b[0m\u001b[0;34m\u001b[0m\u001b[0m\n\u001b[0m",
      "\u001b[0;31mNameError\u001b[0m: name 'myroutine' is not defined"
     ]
    }
   ],
   "source": [
    "#@solution\n",
    "myroutine.main(ages, locations)"
   ]
  },
  {
   "cell_type": "markdown",
   "metadata": {},
   "source": [
    "This should fail since we defined to use `location` from the global variable space.\n",
    "Which is **not** defined in the variable space of the module `myroutine`."
   ]
  },
  {
   "cell_type": "code",
   "execution_count": 12,
   "metadata": {
    "ExecuteTime": {
     "end_time": "2018-10-11T12:50:39.967750Z",
     "start_time": "2018-10-11T12:50:39.963067Z"
    }
   },
   "outputs": [
    {
     "data": {
      "text/plain": [
       "True"
      ]
     },
     "execution_count": 12,
     "metadata": {},
     "output_type": "execute_result"
    }
   ],
   "source": [
    "#@solution\n",
    "'locations' in vars()"
   ]
  },
  {
   "cell_type": "code",
   "execution_count": 13,
   "metadata": {
    "ExecuteTime": {
     "end_time": "2018-10-11T12:50:40.326751Z",
     "start_time": "2018-10-11T12:50:40.321297Z"
    }
   },
   "outputs": [
    {
     "ename": "NameError",
     "evalue": "name 'myroutine' is not defined",
     "output_type": "error",
     "traceback": [
      "\u001b[0;31m---------------------------------------------------------------------------\u001b[0m",
      "\u001b[0;31mNameError\u001b[0m                                 Traceback (most recent call last)",
      "\u001b[0;32m<ipython-input-13-e9111bb0bd0d>\u001b[0m in \u001b[0;36m<module>\u001b[0;34m()\u001b[0m\n\u001b[1;32m      1\u001b[0m \u001b[0;31m#@solution\u001b[0m\u001b[0;34m\u001b[0m\u001b[0;34m\u001b[0m\u001b[0m\n\u001b[0;32m----> 2\u001b[0;31m \u001b[0;34m'locations'\u001b[0m \u001b[0;32min\u001b[0m \u001b[0mvars\u001b[0m\u001b[0;34m(\u001b[0m\u001b[0mmyroutine\u001b[0m\u001b[0;34m)\u001b[0m\u001b[0;34m\u001b[0m\u001b[0m\n\u001b[0m",
      "\u001b[0;31mNameError\u001b[0m: name 'myroutine' is not defined"
     ]
    }
   ],
   "source": [
    "#@solution\n",
    "'locations' in vars(myroutine)"
   ]
  },
  {
   "cell_type": "markdown",
   "metadata": {},
   "source": [
    "To make it work we have to rewrite the `py` file and provide `locations` as `argument` so we can pass it to the function.\n"
   ]
  },
  {
   "cell_type": "code",
   "execution_count": 14,
   "metadata": {
    "ExecuteTime": {
     "end_time": "2018-10-11T12:50:47.472618Z",
     "start_time": "2018-10-11T12:50:47.466107Z"
    }
   },
   "outputs": [
    {
     "ename": "SyntaxError",
     "evalue": "invalid syntax (<ipython-input-14-2c69d33004e8>, line 2)",
     "output_type": "error",
     "traceback": [
      "\u001b[0;36m  File \u001b[0;32m\"<ipython-input-14-2c69d33004e8>\"\u001b[0;36m, line \u001b[0;32m2\u001b[0m\n\u001b[0;31m    %%writefile myroutine.py\u001b[0m\n\u001b[0m    ^\u001b[0m\n\u001b[0;31mSyntaxError\u001b[0m\u001b[0;31m:\u001b[0m invalid syntax\n"
     ]
    }
   ],
   "source": [
    "#@solution\n",
    "%%writefile myroutine.py\n",
    "# Note: %%writefile myroutine.py has to be the first command of a line. (remove #@solution)\n",
    "\n",
    "def get_city(name, locations):\n",
    "    \"Function to get the city for a person\"\n",
    "    found = None\n",
    "    for city, members in locations.items():\n",
    "        if name in members:\n",
    "            found=city\n",
    "            return found\n",
    "    assert found is not None, \"No City found\"\n",
    "\n",
    "def main(ages, locations):\n",
    "    \"our main function\"\n",
    "    sorted_list = sorted(ages.items(), key=lambda x: x[1])\n",
    "    for name, age in sorted_list:\n",
    "        city = get_city(name, locations)\n",
    "        print('{} is {} years old and lives in {}.'.format(name, age, city))"
   ]
  },
  {
   "cell_type": "code",
   "execution_count": 15,
   "metadata": {
    "ExecuteTime": {
     "end_time": "2018-10-11T12:50:53.195902Z",
     "start_time": "2018-10-11T12:50:53.184275Z"
    }
   },
   "outputs": [
    {
     "ename": "ImportError",
     "evalue": "No module named 'myroutine'",
     "output_type": "error",
     "traceback": [
      "\u001b[0;31m---------------------------------------------------------------------------\u001b[0m",
      "\u001b[0;31mImportError\u001b[0m                               Traceback (most recent call last)",
      "\u001b[0;32m<ipython-input-15-a13e379673f3>\u001b[0m in \u001b[0;36m<module>\u001b[0;34m()\u001b[0m\n\u001b[1;32m      1\u001b[0m \u001b[0;31m#@solution\u001b[0m\u001b[0;34m\u001b[0m\u001b[0;34m\u001b[0m\u001b[0m\n\u001b[0;32m----> 2\u001b[0;31m \u001b[0;32mimport\u001b[0m \u001b[0mmyroutine\u001b[0m\u001b[0;34m\u001b[0m\u001b[0m\n\u001b[0m\u001b[1;32m      3\u001b[0m \u001b[0;34m\u001b[0m\u001b[0m\n\u001b[1;32m      4\u001b[0m \u001b[0mmyroutine\u001b[0m\u001b[0;34m.\u001b[0m\u001b[0mmain\u001b[0m\u001b[0;34m(\u001b[0m\u001b[0mages\u001b[0m\u001b[0;34m,\u001b[0m \u001b[0mlocations\u001b[0m\u001b[0;34m)\u001b[0m\u001b[0;34m\u001b[0m\u001b[0m\n",
      "\u001b[0;31mImportError\u001b[0m: No module named 'myroutine'"
     ]
    }
   ],
   "source": [
    "#@solution\n",
    "import myroutine\n",
    "\n",
    "myroutine.main(ages, locations)"
   ]
  },
  {
   "cell_type": "markdown",
   "metadata": {},
   "source": [
    "Since we allready imported the `myroutine` is is not changed again.\n",
    "To fix this we can:\n",
    "* **restart** the kernel (kernel restart), **redfine the variables**, and **import** it again\n",
    "* use the funtction `reload` from `importlib` (`python3` only!)\n",
    "```python\n",
    "from importlib import reload\n",
    "reload(myroutine)\n",
    "myroutine.main(ages, locations)\n",
    "```\n",
    "* use **line magic** `%run myroutine` to execute the code, then the functions are also registered in our `__main__` space! and things work nicely\n"
   ]
  },
  {
   "cell_type": "code",
   "execution_count": 16,
   "metadata": {
    "ExecuteTime": {
     "end_time": "2018-10-11T12:50:56.338049Z",
     "start_time": "2018-10-11T12:50:56.290571Z"
    }
   },
   "outputs": [
    {
     "ename": "NameError",
     "evalue": "name 'myroutine' is not defined",
     "output_type": "error",
     "traceback": [
      "\u001b[0;31m---------------------------------------------------------------------------\u001b[0m",
      "\u001b[0;31mNameError\u001b[0m                                 Traceback (most recent call last)",
      "\u001b[0;32m<ipython-input-16-dde43c80183d>\u001b[0m in \u001b[0;36m<module>\u001b[0;34m()\u001b[0m\n\u001b[1;32m      1\u001b[0m \u001b[0;31m#@solution\u001b[0m\u001b[0;34m\u001b[0m\u001b[0;34m\u001b[0m\u001b[0m\n\u001b[1;32m      2\u001b[0m \u001b[0;32mfrom\u001b[0m \u001b[0mimportlib\u001b[0m \u001b[0;32mimport\u001b[0m \u001b[0mreload\u001b[0m\u001b[0;34m\u001b[0m\u001b[0m\n\u001b[0;32m----> 3\u001b[0;31m \u001b[0mreload\u001b[0m\u001b[0;34m(\u001b[0m\u001b[0mmyroutine\u001b[0m\u001b[0;34m)\u001b[0m\u001b[0;34m\u001b[0m\u001b[0m\n\u001b[0m\u001b[1;32m      4\u001b[0m \u001b[0mmyroutine\u001b[0m\u001b[0;34m.\u001b[0m\u001b[0mmain\u001b[0m\u001b[0;34m(\u001b[0m\u001b[0mages\u001b[0m\u001b[0;34m,\u001b[0m \u001b[0mlocations\u001b[0m\u001b[0;34m)\u001b[0m\u001b[0;34m\u001b[0m\u001b[0m\n",
      "\u001b[0;31mNameError\u001b[0m: name 'myroutine' is not defined"
     ]
    }
   ],
   "source": [
    "#@solution\n",
    "from importlib import reload\n",
    "reload(myroutine)\n",
    "myroutine.main(ages, locations)"
   ]
  },
  {
   "cell_type": "code",
   "execution_count": 17,
   "metadata": {
    "ExecuteTime": {
     "end_time": "2018-10-11T12:50:57.065920Z",
     "start_time": "2018-10-11T12:50:57.051172Z"
    }
   },
   "outputs": [
    {
     "name": "stderr",
     "output_type": "stream",
     "text": [
      "ERROR:root:File `'myroutine.py'` not found.\n"
     ]
    },
    {
     "name": "stdout",
     "output_type": "stream",
     "text": [
      "Emily is 6 years old and lives in Stuttgart.\n",
      "Lewis is 19 years old and lives in Hamburg.\n",
      "Peter is 19 years old and lives in Berlin.\n",
      "Sue is 23 years old and lives in Munich.\n",
      "Petra is 24 years old and lives in Berlin.\n",
      "Karren is 45 years old and lives in Berlin.\n",
      "Andrew is 78 years old and lives in Stuttgart.\n",
      "Andy is 85 years old and lives in Hamburg.\n",
      "Andi is 88 years old and lives in Berlin.\n",
      "Help on function get_city in module __main__:\n",
      "\n",
      "get_city(name)\n",
      "    Function to get the city for a person\n",
      "\n"
     ]
    }
   ],
   "source": [
    "#@solution\n",
    "%run myroutine\n",
    "main(ages, locations)\n",
    "# check how get_city looks like\n",
    "help(get_city)"
   ]
  },
  {
   "cell_type": "code",
   "execution_count": 18,
   "metadata": {
    "ExecuteTime": {
     "end_time": "2018-10-11T12:50:57.535531Z",
     "start_time": "2018-10-11T12:50:57.523264Z"
    }
   },
   "outputs": [],
   "source": [
    "ages = {'Andi':   88, \n",
    "        'Andrew': 78,\n",
    "        'Andy':   85,\n",
    "        'Emily':   6,\n",
    "        'Karren': 45,\n",
    "        'Lewis':  19,\n",
    "        'Peter':  19,\n",
    "        'Petra':  24,\n",
    "        'Sue':    23}\n",
    "locations = {\n",
    "    'Berlin'    : ['Andi', 'Karren', 'Peter', 'Petra'],\n",
    "    'Stuttgart' : ['Andrew', 'Emily'],\n",
    "    'Munich'    : ['Sue'],\n",
    "    'Hamburg'   : ['Andy', 'Lewis'],\n",
    "}"
   ]
  },
  {
   "cell_type": "code",
   "execution_count": 19,
   "metadata": {
    "ExecuteTime": {
     "end_time": "2018-10-11T12:50:57.885771Z",
     "start_time": "2018-10-11T12:50:57.877356Z"
    }
   },
   "outputs": [
    {
     "ename": "ImportError",
     "evalue": "No module named 'myroutine'",
     "output_type": "error",
     "traceback": [
      "\u001b[0;31m---------------------------------------------------------------------------\u001b[0m",
      "\u001b[0;31mImportError\u001b[0m                               Traceback (most recent call last)",
      "\u001b[0;32m<ipython-input-19-45c9f5226b6b>\u001b[0m in \u001b[0;36m<module>\u001b[0;34m()\u001b[0m\n\u001b[0;32m----> 1\u001b[0;31m \u001b[0;32mimport\u001b[0m \u001b[0mmyroutine\u001b[0m\u001b[0;34m\u001b[0m\u001b[0m\n\u001b[0m\u001b[1;32m      2\u001b[0m \u001b[0mmyroutine\u001b[0m\u001b[0;34m.\u001b[0m\u001b[0mmain\u001b[0m\u001b[0;34m(\u001b[0m\u001b[0mages\u001b[0m\u001b[0;34m,\u001b[0m \u001b[0mlocations\u001b[0m\u001b[0;34m)\u001b[0m\u001b[0;34m\u001b[0m\u001b[0m\n",
      "\u001b[0;31mImportError\u001b[0m: No module named 'myroutine'"
     ]
    }
   ],
   "source": [
    "import myroutine\n",
    "myroutine.main(ages, locations)"
   ]
  },
  {
   "cell_type": "markdown",
   "metadata": {},
   "source": [
    "We can also import individual functions from it"
   ]
  },
  {
   "cell_type": "code",
   "execution_count": 20,
   "metadata": {
    "ExecuteTime": {
     "end_time": "2018-10-11T12:50:58.791777Z",
     "start_time": "2018-10-11T12:50:58.789258Z"
    }
   },
   "outputs": [
    {
     "ename": "ImportError",
     "evalue": "No module named 'myroutine'",
     "output_type": "error",
     "traceback": [
      "\u001b[0;31m---------------------------------------------------------------------------\u001b[0m",
      "\u001b[0;31mImportError\u001b[0m                               Traceback (most recent call last)",
      "\u001b[0;32m<ipython-input-20-7d52d359d6c8>\u001b[0m in \u001b[0;36m<module>\u001b[0;34m()\u001b[0m\n\u001b[1;32m      1\u001b[0m \u001b[0;31m#@solution\u001b[0m\u001b[0;34m\u001b[0m\u001b[0;34m\u001b[0m\u001b[0m\n\u001b[0;32m----> 2\u001b[0;31m \u001b[0;32mfrom\u001b[0m \u001b[0mmyroutine\u001b[0m \u001b[0;32mimport\u001b[0m \u001b[0mget_city\u001b[0m\u001b[0;34m\u001b[0m\u001b[0m\n\u001b[0m\u001b[1;32m      3\u001b[0m \u001b[0mhelp\u001b[0m\u001b[0;34m(\u001b[0m\u001b[0mget_city\u001b[0m\u001b[0;34m)\u001b[0m\u001b[0;34m\u001b[0m\u001b[0m\n",
      "\u001b[0;31mImportError\u001b[0m: No module named 'myroutine'"
     ]
    }
   ],
   "source": [
    "#@solution\n",
    "from myroutine import get_city\n",
    "help(get_city)"
   ]
  },
  {
   "cell_type": "markdown",
   "metadata": {},
   "source": [
    "## Create an output"
   ]
  },
  {
   "cell_type": "markdown",
   "metadata": {},
   "source": [
    "The native way to handle context of a file is the `open()` function.\n",
    "\n",
    "It's most important arguments are `file` and `mode`.\n",
    "- `file` : filename\n",
    "- `mode` : \n",
    "    - `r` : read\n",
    "    - `w` : write\n",
    "    - `a` : append \n",
    "    - `rb` : read in binary format\n",
    "    - `wb` : write in binary format\n",
    "    - `ab` : append in binary format"
   ]
  },
  {
   "cell_type": "markdown",
   "metadata": {},
   "source": [
    "Create a file pointer (`fp`) to the file using `r` (read) mode."
   ]
  },
  {
   "cell_type": "code",
   "execution_count": 21,
   "metadata": {
    "ExecuteTime": {
     "end_time": "2018-10-11T13:05:48.159110Z",
     "start_time": "2018-10-11T13:05:48.156214Z"
    }
   },
   "outputs": [
    {
     "ename": "FileNotFoundError",
     "evalue": "[Errno 2] No such file or directory: 'myroutine.py'",
     "output_type": "error",
     "traceback": [
      "\u001b[0;31m---------------------------------------------------------------------------\u001b[0m",
      "\u001b[0;31mFileNotFoundError\u001b[0m                         Traceback (most recent call last)",
      "\u001b[0;32m<ipython-input-21-d850f136d1a4>\u001b[0m in \u001b[0;36m<module>\u001b[0;34m()\u001b[0m\n\u001b[1;32m      1\u001b[0m \u001b[0;31m#@solution\u001b[0m\u001b[0;34m\u001b[0m\u001b[0;34m\u001b[0m\u001b[0m\n\u001b[0;32m----> 2\u001b[0;31m \u001b[0mfp\u001b[0m \u001b[0;34m=\u001b[0m \u001b[0mopen\u001b[0m\u001b[0;34m(\u001b[0m\u001b[0;34m'myroutine.py'\u001b[0m\u001b[0;34m,\u001b[0m \u001b[0;34m'r'\u001b[0m\u001b[0;34m)\u001b[0m\u001b[0;34m\u001b[0m\u001b[0m\n\u001b[0m\u001b[1;32m      3\u001b[0m \u001b[0mfp\u001b[0m\u001b[0;34m\u001b[0m\u001b[0m\n",
      "\u001b[0;31mFileNotFoundError\u001b[0m: [Errno 2] No such file or directory: 'myroutine.py'"
     ]
    }
   ],
   "source": [
    "#@solution\n",
    "fp = open('myroutine.py', 'r')\n",
    "fp"
   ]
  },
  {
   "cell_type": "markdown",
   "metadata": {},
   "source": [
    "Read the content."
   ]
  },
  {
   "cell_type": "code",
   "execution_count": 22,
   "metadata": {
    "ExecuteTime": {
     "end_time": "2018-10-11T13:05:48.539588Z",
     "start_time": "2018-10-11T13:05:48.531151Z"
    }
   },
   "outputs": [
    {
     "ename": "NameError",
     "evalue": "name 'fp' is not defined",
     "output_type": "error",
     "traceback": [
      "\u001b[0;31m---------------------------------------------------------------------------\u001b[0m",
      "\u001b[0;31mNameError\u001b[0m                                 Traceback (most recent call last)",
      "\u001b[0;32m<ipython-input-22-2d42f04f0138>\u001b[0m in \u001b[0;36m<module>\u001b[0;34m()\u001b[0m\n\u001b[1;32m      1\u001b[0m \u001b[0;31m#@solution\u001b[0m\u001b[0;34m\u001b[0m\u001b[0;34m\u001b[0m\u001b[0m\n\u001b[0;32m----> 2\u001b[0;31m \u001b[0mcontent\u001b[0m \u001b[0;34m=\u001b[0m \u001b[0mfp\u001b[0m\u001b[0;34m.\u001b[0m\u001b[0mread\u001b[0m\u001b[0;34m(\u001b[0m\u001b[0;34m)\u001b[0m\u001b[0;34m\u001b[0m\u001b[0m\n\u001b[0m\u001b[1;32m      3\u001b[0m \u001b[0mprint\u001b[0m\u001b[0;34m(\u001b[0m\u001b[0mcontent\u001b[0m\u001b[0;34m)\u001b[0m\u001b[0;34m\u001b[0m\u001b[0m\n",
      "\u001b[0;31mNameError\u001b[0m: name 'fp' is not defined"
     ]
    }
   ],
   "source": [
    "#@solution\n",
    "content = fp.read()\n",
    "print(content)"
   ]
  },
  {
   "cell_type": "markdown",
   "metadata": {},
   "source": [
    "As you can see here is the content of your file.\n",
    "As in other languages we have to close our file pointer (`fp`) again."
   ]
  },
  {
   "cell_type": "code",
   "execution_count": 23,
   "metadata": {
    "ExecuteTime": {
     "end_time": "2018-10-11T13:05:48.816472Z",
     "start_time": "2018-10-11T13:05:48.810106Z"
    }
   },
   "outputs": [
    {
     "ename": "NameError",
     "evalue": "name 'fp' is not defined",
     "output_type": "error",
     "traceback": [
      "\u001b[0;31m---------------------------------------------------------------------------\u001b[0m",
      "\u001b[0;31mNameError\u001b[0m                                 Traceback (most recent call last)",
      "\u001b[0;32m<ipython-input-23-7df63238d102>\u001b[0m in \u001b[0;36m<module>\u001b[0;34m()\u001b[0m\n\u001b[1;32m      1\u001b[0m \u001b[0;31m#@solution\u001b[0m\u001b[0;34m\u001b[0m\u001b[0;34m\u001b[0m\u001b[0m\n\u001b[0;32m----> 2\u001b[0;31m \u001b[0mfp\u001b[0m\u001b[0;34m.\u001b[0m\u001b[0mclose\u001b[0m\u001b[0;34m(\u001b[0m\u001b[0;34m)\u001b[0m\u001b[0;34m\u001b[0m\u001b[0m\n\u001b[0m",
      "\u001b[0;31mNameError\u001b[0m: name 'fp' is not defined"
     ]
    }
   ],
   "source": [
    "#@solution\n",
    "fp.close()"
   ]
  },
  {
   "cell_type": "markdown",
   "metadata": {
    "ExecuteTime": {
     "end_time": "2018-10-11T13:03:19.277870Z",
     "start_time": "2018-10-11T13:03:19.272666Z"
    }
   },
   "source": [
    "We can also save something to a file the same way."
   ]
  },
  {
   "cell_type": "code",
   "execution_count": 24,
   "metadata": {
    "ExecuteTime": {
     "end_time": "2018-10-11T13:07:41.403479Z",
     "start_time": "2018-10-11T13:07:41.399415Z"
    }
   },
   "outputs": [],
   "source": [
    "#@solution\n",
    "fp = open(\"my_output.txt\", 'w')\n",
    "\n",
    "fp.write(\"A new file\")\n",
    "fp.write(\"A second line\")\n",
    "\n",
    "fp.close()"
   ]
  },
  {
   "cell_type": "markdown",
   "metadata": {},
   "source": [
    "Let's read the context."
   ]
  },
  {
   "cell_type": "code",
   "execution_count": 25,
   "metadata": {
    "ExecuteTime": {
     "end_time": "2018-10-11T13:08:30.373465Z",
     "start_time": "2018-10-11T13:08:30.369139Z"
    }
   },
   "outputs": [
    {
     "name": "stdout",
     "output_type": "stream",
     "text": [
      "A new fileA second line\n"
     ]
    }
   ],
   "source": [
    "#@solution\n",
    "print(open(\"my_output.txt\").read())"
   ]
  },
  {
   "cell_type": "markdown",
   "metadata": {},
   "source": [
    "Seems as we don't have a second line here. Let's fix it."
   ]
  },
  {
   "cell_type": "code",
   "execution_count": 26,
   "metadata": {
    "ExecuteTime": {
     "end_time": "2018-10-11T13:23:37.572859Z",
     "start_time": "2018-10-11T13:23:37.565667Z"
    }
   },
   "outputs": [],
   "source": [
    "#@solution\n",
    "fp = open(\"my_output.txt\", 'w')\n",
    "\n",
    "fp.write(\"A new file\\n\")  # note the \\n char here, meaning \\newline\n",
    "fp.write(\"A second line\\n\")\n",
    "\n",
    "fp.close()"
   ]
  },
  {
   "cell_type": "code",
   "execution_count": 27,
   "metadata": {
    "ExecuteTime": {
     "end_time": "2018-10-11T13:23:37.868506Z",
     "start_time": "2018-10-11T13:23:37.858045Z"
    }
   },
   "outputs": [
    {
     "name": "stdout",
     "output_type": "stream",
     "text": [
      "A new file\n",
      "A second line\n",
      "\n"
     ]
    }
   ],
   "source": [
    "#@solution\n",
    "print(open(\"my_output.txt\").read())"
   ]
  },
  {
   "cell_type": "markdown",
   "metadata": {},
   "source": [
    "If we want to `print` the lines one by one. We can get them as seperatly."
   ]
  },
  {
   "cell_type": "code",
   "execution_count": 28,
   "metadata": {
    "ExecuteTime": {
     "end_time": "2018-10-11T13:24:33.010587Z",
     "start_time": "2018-10-11T13:24:33.001418Z"
    }
   },
   "outputs": [],
   "source": [
    "#@solution\n",
    "fp = open(\"my_output.txt\", 'r')\n",
    "lines = fp.readlines()\n",
    "fp.close()"
   ]
  },
  {
   "cell_type": "code",
   "execution_count": 29,
   "metadata": {
    "ExecuteTime": {
     "end_time": "2018-10-11T13:24:33.240394Z",
     "start_time": "2018-10-11T13:24:33.231355Z"
    }
   },
   "outputs": [
    {
     "data": {
      "text/plain": [
       "['A new file\\n', 'A second line\\n']"
      ]
     },
     "execution_count": 29,
     "metadata": {},
     "output_type": "execute_result"
    }
   ],
   "source": [
    "#@solution\n",
    "lines"
   ]
  },
  {
   "cell_type": "markdown",
   "metadata": {},
   "source": [
    "Now you know the very basics how to `read` and `write` a file. More is provided on the last day in the lecture about parsing a config file."
   ]
  },
  {
   "cell_type": "markdown",
   "metadata": {},
   "source": [
    "<div class='alert alert-block alert-info'>\n",
    "Our customer requires us to store the output into a file which he can use. <br>\n",
    "\n",
    "Task: <br>\n",
    "Extend the main function so we can print the output into a variable file. <br>\n",
    "\n",
    "check the code with:  <br>  \n",
    "</div>\n",
    "\n",
    "```python\n",
    "print(open('results.txt').read())\n",
    "```\n"
   ]
  },
  {
   "cell_type": "markdown",
   "metadata": {},
   "source": [
    "here are our functions again and the variables"
   ]
  },
  {
   "cell_type": "code",
   "execution_count": 30,
   "metadata": {
    "ExecuteTime": {
     "end_time": "2018-10-15T13:01:54.180518Z",
     "start_time": "2018-10-15T13:01:54.177803Z"
    }
   },
   "outputs": [],
   "source": [
    "ages = {'Andi':   88, \n",
    "        'Andrew': 78,\n",
    "        'Andy':   85,\n",
    "        'Emily':   6,\n",
    "        'Karren': 45,\n",
    "        'Lewis':  19,\n",
    "        'Peter':  19,\n",
    "        'Petra':  24,\n",
    "        'Sue':    23}\n",
    "locations = {\n",
    "    'Berlin'    : ['Andi', 'Karren', 'Peter', 'Petra'],\n",
    "    'Stuttgart' : ['Andrew', 'Emily'],\n",
    "    'Munich'    : ['Sue'],\n",
    "    'Hamburg'   : ['Andy', 'Lewis'],\n",
    "}"
   ]
  },
  {
   "cell_type": "code",
   "execution_count": 31,
   "metadata": {
    "ExecuteTime": {
     "end_time": "2018-10-15T13:01:54.491002Z",
     "start_time": "2018-10-15T13:01:54.390278Z"
    }
   },
   "outputs": [],
   "source": [
    "#%%writefile myroutine.py\n",
    "def get_city(name, locations):\n",
    "    \"Function to get the city for a person\"\n",
    "    found = None\n",
    "    for city, members in locations.items():\n",
    "        if name in members:\n",
    "            found=city\n",
    "            return found\n",
    "    assert found is not None, \"No City found\"\n",
    "\n",
    "def main(ages, locations):\n",
    "    \"our main function\"\n",
    "    sorted_list = sorted(ages.items(), key=lambda x: x[1])\n",
    "    for name, age in sorted_list:\n",
    "        city = get_city(name, locations)\n",
    "        print('{} is {} years old and lives in {}.'.format(name, age, city))"
   ]
  },
  {
   "cell_type": "code",
   "execution_count": 32,
   "metadata": {
    "ExecuteTime": {
     "end_time": "2018-10-15T13:01:55.092137Z",
     "start_time": "2018-10-15T13:01:55.088329Z"
    }
   },
   "outputs": [],
   "source": [
    "#@solution\n",
    "#%%writefile myroutine.py\n",
    "def get_city(name, locations):\n",
    "    \"Function to get the city for a person\"\n",
    "    found = None\n",
    "    for city, members in locations.items():\n",
    "        if name in members:\n",
    "            found=city\n",
    "            return found\n",
    "    assert found is not None, \"No City found\"\n",
    "\n",
    "def main(ages, locations, fname='results.txt'):\n",
    "    \"our main function\"\n",
    "    sorted_list = sorted(ages.items(), key=lambda x: x[1])\n",
    "    fp = open(fname, 'w')\n",
    "    for name, age in sorted_list:\n",
    "        city = get_city(name, locations)\n",
    "        fp.write('{} is {} years old and lives in {}.\\n'.format(name, age, city))\n",
    "    fp.close()"
   ]
  },
  {
   "cell_type": "markdown",
   "metadata": {},
   "source": [
    "Update our file `myroutine.py` again"
   ]
  },
  {
   "cell_type": "code",
   "execution_count": 33,
   "metadata": {
    "ExecuteTime": {
     "end_time": "2018-10-15T13:01:55.435076Z",
     "start_time": "2018-10-15T13:01:55.423973Z"
    }
   },
   "outputs": [
    {
     "ename": "SyntaxError",
     "evalue": "invalid syntax (<ipython-input-33-c2af99091cd9>, line 2)",
     "output_type": "error",
     "traceback": [
      "\u001b[0;36m  File \u001b[0;32m\"<ipython-input-33-c2af99091cd9>\"\u001b[0;36m, line \u001b[0;32m2\u001b[0m\n\u001b[0;31m    %%writefile myroutine.py\u001b[0m\n\u001b[0m    ^\u001b[0m\n\u001b[0;31mSyntaxError\u001b[0m\u001b[0;31m:\u001b[0m invalid syntax\n"
     ]
    }
   ],
   "source": [
    "#@solution\n",
    "%%writefile myroutine.py\n",
    "# Note: %%writefile myroutine.py has to be the first command of a line. (remove #@solution)\n",
    "\n",
    "def get_city(name, locations):\n",
    "    \"Function to get the city for a person\"\n",
    "    found = None\n",
    "    for city, members in locations.items():\n",
    "        if name in members:\n",
    "            found=city\n",
    "            return found\n",
    "    assert found is not None, \"No City found\"\n",
    "\n",
    "def main(ages, locations, fname='results.txt'):\n",
    "    \"our main function\"\n",
    "    sorted_list = sorted(ages.items(), key=lambda x: x[1])\n",
    "    fp = open(fname, 'w')\n",
    "    for name, age in sorted_list:\n",
    "        city = get_city(name, locations)\n",
    "        fp.write('{} is {} years old and lives in {}.\\n'.format(name, age, city))\n",
    "    fp.close()"
   ]
  },
  {
   "cell_type": "markdown",
   "metadata": {},
   "source": [
    "## Create our own real module"
   ]
  },
  {
   "cell_type": "markdown",
   "metadata": {},
   "source": [
    "Structure of a module\n",
    "```text\n",
    ".\n",
    "└── module_name\n",
    "    ├── __init__.py\n",
    "    ├── somefunc.py\n",
    "    └── submodule\n",
    "        ├── __init__.py\n",
    "        └── someotherfunc.py\n",
    "```"
   ]
  },
  {
   "cell_type": "markdown",
   "metadata": {
    "ExecuteTime": {
     "end_time": "2018-10-11T12:49:38.803792Z",
     "start_time": "2018-10-11T12:49:38.720Z"
    }
   },
   "source": [
    "Let's create this structure by hand."
   ]
  },
  {
   "cell_type": "code",
   "execution_count": 34,
   "metadata": {
    "ExecuteTime": {
     "end_time": "2018-10-11T13:44:52.179875Z",
     "start_time": "2018-10-11T13:44:52.161495Z"
    }
   },
   "outputs": [
    {
     "ename": "FileExistsError",
     "evalue": "[Errno 17] File exists: 'test_module'",
     "output_type": "error",
     "traceback": [
      "\u001b[0;31m---------------------------------------------------------------------------\u001b[0m",
      "\u001b[0;31mFileExistsError\u001b[0m                           Traceback (most recent call last)",
      "\u001b[0;32m<ipython-input-34-a2b188602e0e>\u001b[0m in \u001b[0;36m<module>\u001b[0;34m()\u001b[0m\n\u001b[1;32m      2\u001b[0m \u001b[0;31m# create folders structure with python\u001b[0m\u001b[0;34m\u001b[0m\u001b[0;34m\u001b[0m\u001b[0m\n\u001b[1;32m      3\u001b[0m \u001b[0;32mimport\u001b[0m \u001b[0mos\u001b[0m\u001b[0;34m\u001b[0m\u001b[0m\n\u001b[0;32m----> 4\u001b[0;31m \u001b[0mos\u001b[0m\u001b[0;34m.\u001b[0m\u001b[0mmkdir\u001b[0m\u001b[0;34m(\u001b[0m\u001b[0;34m\"test_module\"\u001b[0m\u001b[0;34m)\u001b[0m\u001b[0;34m\u001b[0m\u001b[0m\n\u001b[0m\u001b[1;32m      5\u001b[0m \u001b[0mos\u001b[0m\u001b[0;34m.\u001b[0m\u001b[0mmkdir\u001b[0m\u001b[0;34m(\u001b[0m\u001b[0;34m\"test_module/submodule\"\u001b[0m\u001b[0;34m)\u001b[0m\u001b[0;34m\u001b[0m\u001b[0m\n\u001b[1;32m      6\u001b[0m \u001b[0mopen\u001b[0m\u001b[0;34m(\u001b[0m\u001b[0mos\u001b[0m\u001b[0;34m.\u001b[0m\u001b[0mpath\u001b[0m\u001b[0;34m.\u001b[0m\u001b[0mjoin\u001b[0m\u001b[0;34m(\u001b[0m\u001b[0;34m'test_module'\u001b[0m\u001b[0;34m,\u001b[0m \u001b[0;34m'__init__.py'\u001b[0m\u001b[0;34m)\u001b[0m\u001b[0;34m,\u001b[0m \u001b[0;34m'w'\u001b[0m\u001b[0;34m)\u001b[0m\u001b[0;34m.\u001b[0m\u001b[0mclose\u001b[0m\u001b[0;34m(\u001b[0m\u001b[0;34m)\u001b[0m\u001b[0;34m\u001b[0m\u001b[0m\n",
      "\u001b[0;31mFileExistsError\u001b[0m: [Errno 17] File exists: 'test_module'"
     ]
    }
   ],
   "source": [
    "#@solution\n",
    "# create folders structure with python\n",
    "import os\n",
    "os.mkdir(\"test_module\")\n",
    "os.mkdir(\"test_module/submodule\")\n",
    "open(os.path.join('test_module', '__init__.py'), 'w').close()\n",
    "open(os.path.join('test_module', 'submodule', '__init__.py'), 'w').close()\n",
    "from shutil import copy2\n",
    "copy2('myroutine.py', os.path.join('test_module', 'myroutine.py'))"
   ]
  },
  {
   "cell_type": "markdown",
   "metadata": {},
   "source": [
    "Let's test our module"
   ]
  },
  {
   "cell_type": "code",
   "execution_count": 35,
   "metadata": {
    "ExecuteTime": {
     "end_time": "2018-10-11T13:45:24.122136Z",
     "start_time": "2018-10-11T13:45:24.120086Z"
    }
   },
   "outputs": [],
   "source": [
    "#@solution\n",
    "import test_module"
   ]
  },
  {
   "cell_type": "code",
   "execution_count": 36,
   "metadata": {
    "ExecuteTime": {
     "end_time": "2018-10-11T13:45:56.796618Z",
     "start_time": "2018-10-11T13:45:56.787849Z"
    }
   },
   "outputs": [
    {
     "ename": "AttributeError",
     "evalue": "module 'test_module' has no attribute 'myroutine'",
     "output_type": "error",
     "traceback": [
      "\u001b[0;31m---------------------------------------------------------------------------\u001b[0m",
      "\u001b[0;31mAttributeError\u001b[0m                            Traceback (most recent call last)",
      "\u001b[0;32m<ipython-input-36-f857ecc68ea5>\u001b[0m in \u001b[0;36m<module>\u001b[0;34m()\u001b[0m\n\u001b[1;32m      1\u001b[0m \u001b[0;31m#@solution\u001b[0m\u001b[0;34m\u001b[0m\u001b[0;34m\u001b[0m\u001b[0m\n\u001b[0;32m----> 2\u001b[0;31m \u001b[0mtest_module\u001b[0m\u001b[0;34m.\u001b[0m\u001b[0mmyroutine\u001b[0m\u001b[0;34m\u001b[0m\u001b[0m\n\u001b[0m",
      "\u001b[0;31mAttributeError\u001b[0m: module 'test_module' has no attribute 'myroutine'"
     ]
    }
   ],
   "source": [
    "#@solution\n",
    "test_module.myroutine"
   ]
  },
  {
   "cell_type": "code",
   "execution_count": 37,
   "metadata": {
    "ExecuteTime": {
     "end_time": "2018-10-11T13:49:32.472483Z",
     "start_time": "2018-10-11T13:49:32.468917Z"
    }
   },
   "outputs": [
    {
     "ename": "SyntaxError",
     "evalue": "invalid syntax (<ipython-input-37-d7604573e446>, line 2)",
     "output_type": "error",
     "traceback": [
      "\u001b[0;36m  File \u001b[0;32m\"<ipython-input-37-d7604573e446>\"\u001b[0;36m, line \u001b[0;32m2\u001b[0m\n\u001b[0;31m    %%writefile test_module/__init__.py\u001b[0m\n\u001b[0m    ^\u001b[0m\n\u001b[0;31mSyntaxError\u001b[0m\u001b[0;31m:\u001b[0m invalid syntax\n"
     ]
    }
   ],
   "source": [
    "#@solution\n",
    "%%writefile test_module/__init__.py\n",
    "from . import myroutine"
   ]
  },
  {
   "cell_type": "markdown",
   "metadata": {},
   "source": [
    "You could also use `from .myroutine import *` to get all functions in `test_modules`."
   ]
  },
  {
   "cell_type": "code",
   "execution_count": 38,
   "metadata": {
    "ExecuteTime": {
     "end_time": "2018-10-11T13:53:45.681172Z",
     "start_time": "2018-10-11T13:53:45.676672Z"
    }
   },
   "outputs": [
    {
     "data": {
      "text/plain": [
       "<module 'test_module' (namespace)>"
      ]
     },
     "execution_count": 38,
     "metadata": {},
     "output_type": "execute_result"
    }
   ],
   "source": [
    "#@solution\n",
    "reload(test_module)"
   ]
  },
  {
   "cell_type": "code",
   "execution_count": 39,
   "metadata": {
    "ExecuteTime": {
     "end_time": "2018-10-11T13:53:45.942490Z",
     "start_time": "2018-10-11T13:53:45.936862Z"
    }
   },
   "outputs": [
    {
     "ename": "AttributeError",
     "evalue": "module 'test_module' has no attribute 'myroutine'",
     "output_type": "error",
     "traceback": [
      "\u001b[0;31m---------------------------------------------------------------------------\u001b[0m",
      "\u001b[0;31mAttributeError\u001b[0m                            Traceback (most recent call last)",
      "\u001b[0;32m<ipython-input-39-40d653429c97>\u001b[0m in \u001b[0;36m<module>\u001b[0;34m()\u001b[0m\n\u001b[1;32m      1\u001b[0m \u001b[0;31m#@solution\u001b[0m\u001b[0;34m\u001b[0m\u001b[0;34m\u001b[0m\u001b[0m\n\u001b[0;32m----> 2\u001b[0;31m \u001b[0mhelp\u001b[0m\u001b[0;34m(\u001b[0m\u001b[0mtest_module\u001b[0m\u001b[0;34m.\u001b[0m\u001b[0mmyroutine\u001b[0m\u001b[0;34m.\u001b[0m\u001b[0mget_city\u001b[0m\u001b[0;34m)\u001b[0m\u001b[0;34m\u001b[0m\u001b[0m\n\u001b[0m",
      "\u001b[0;31mAttributeError\u001b[0m: module 'test_module' has no attribute 'myroutine'"
     ]
    }
   ],
   "source": [
    "#@solution\n",
    "help(test_module.myroutine.get_city)"
   ]
  },
  {
   "cell_type": "markdown",
   "metadata": {},
   "source": [
    "If you want to add `docstrings`, place them at the top of the file. Then you get an help for your module."
   ]
  },
  {
   "cell_type": "code",
   "execution_count": 40,
   "metadata": {
    "ExecuteTime": {
     "end_time": "2018-10-11T13:54:40.259741Z",
     "start_time": "2018-10-11T13:54:39.975873Z"
    }
   },
   "outputs": [
    {
     "ename": "SyntaxError",
     "evalue": "invalid syntax (<ipython-input-40-12e99b3bdf66>, line 2)",
     "output_type": "error",
     "traceback": [
      "\u001b[0;36m  File \u001b[0;32m\"<ipython-input-40-12e99b3bdf66>\"\u001b[0;36m, line \u001b[0;32m2\u001b[0m\n\u001b[0;31m    %%writefile test_module/submodule/__init__.py\u001b[0m\n\u001b[0m    ^\u001b[0m\n\u001b[0;31mSyntaxError\u001b[0m\u001b[0;31m:\u001b[0m invalid syntax\n"
     ]
    }
   ],
   "source": [
    "#@solution\n",
    "%%writefile test_module/submodule/__init__.py\n",
    "\"\"\"\n",
    "Some DocString\n",
    "\"\"\""
   ]
  },
  {
   "cell_type": "markdown",
   "metadata": {},
   "source": [
    "We also have to add the package to the main `__init__.py`."
   ]
  },
  {
   "cell_type": "code",
   "execution_count": 41,
   "metadata": {
    "ExecuteTime": {
     "end_time": "2018-10-11T13:55:54.467829Z",
     "start_time": "2018-10-11T13:55:54.462856Z"
    }
   },
   "outputs": [
    {
     "ename": "SyntaxError",
     "evalue": "invalid syntax (<ipython-input-41-b74fb4f7ee22>, line 2)",
     "output_type": "error",
     "traceback": [
      "\u001b[0;36m  File \u001b[0;32m\"<ipython-input-41-b74fb4f7ee22>\"\u001b[0;36m, line \u001b[0;32m2\u001b[0m\n\u001b[0;31m    %%writefile test_module/__init__.py\u001b[0m\n\u001b[0m    ^\u001b[0m\n\u001b[0;31mSyntaxError\u001b[0m\u001b[0;31m:\u001b[0m invalid syntax\n"
     ]
    }
   ],
   "source": [
    "#@solution\n",
    "%%writefile test_module/__init__.py\n",
    "from . import (myroutine,\n",
    "               submodule)"
   ]
  },
  {
   "cell_type": "code",
   "execution_count": 42,
   "metadata": {
    "ExecuteTime": {
     "end_time": "2018-10-11T13:55:55.945369Z",
     "start_time": "2018-10-11T13:55:55.899016Z"
    }
   },
   "outputs": [
    {
     "data": {
      "text/plain": [
       "<module 'test_module' (namespace)>"
      ]
     },
     "execution_count": 42,
     "metadata": {},
     "output_type": "execute_result"
    }
   ],
   "source": [
    "#@solution\n",
    "reload(test_module)"
   ]
  },
  {
   "cell_type": "code",
   "execution_count": 43,
   "metadata": {
    "ExecuteTime": {
     "end_time": "2018-10-11T13:55:56.417589Z",
     "start_time": "2018-10-11T13:55:56.404274Z"
    }
   },
   "outputs": [
    {
     "ename": "AttributeError",
     "evalue": "module 'test_module' has no attribute 'submodule'",
     "output_type": "error",
     "traceback": [
      "\u001b[0;31m---------------------------------------------------------------------------\u001b[0m",
      "\u001b[0;31mAttributeError\u001b[0m                            Traceback (most recent call last)",
      "\u001b[0;32m<ipython-input-43-03f754017c01>\u001b[0m in \u001b[0;36m<module>\u001b[0;34m()\u001b[0m\n\u001b[1;32m      1\u001b[0m \u001b[0;31m#@solution\u001b[0m\u001b[0;34m\u001b[0m\u001b[0;34m\u001b[0m\u001b[0m\n\u001b[0;32m----> 2\u001b[0;31m \u001b[0mhelp\u001b[0m\u001b[0;34m(\u001b[0m\u001b[0mtest_module\u001b[0m\u001b[0;34m.\u001b[0m\u001b[0msubmodule\u001b[0m\u001b[0;34m)\u001b[0m\u001b[0;34m\u001b[0m\u001b[0m\n\u001b[0m",
      "\u001b[0;31mAttributeError\u001b[0m: module 'test_module' has no attribute 'submodule'"
     ]
    }
   ],
   "source": [
    "#@solution\n",
    "help(test_module.submodule)"
   ]
  },
  {
   "cell_type": "code",
   "execution_count": 44,
   "metadata": {
    "ExecuteTime": {
     "end_time": "2018-10-11T13:56:12.344360Z",
     "start_time": "2018-10-11T13:56:12.331618Z"
    }
   },
   "outputs": [
    {
     "ename": "FileNotFoundError",
     "evalue": "[Errno 2] No such file or directory: 'test_module/submodule/__init__.py'",
     "output_type": "error",
     "traceback": [
      "\u001b[0;31m---------------------------------------------------------------------------\u001b[0m",
      "\u001b[0;31mFileNotFoundError\u001b[0m                         Traceback (most recent call last)",
      "\u001b[0;32m<ipython-input-44-9b9160b4e102>\u001b[0m in \u001b[0;36m<module>\u001b[0;34m()\u001b[0m\n\u001b[1;32m      1\u001b[0m \u001b[0;31m#@solution\u001b[0m\u001b[0;34m\u001b[0m\u001b[0;34m\u001b[0m\u001b[0m\n\u001b[1;32m      2\u001b[0m \u001b[0;31m# cleanup\u001b[0m\u001b[0;34m\u001b[0m\u001b[0;34m\u001b[0m\u001b[0m\n\u001b[0;32m----> 3\u001b[0;31m \u001b[0mos\u001b[0m\u001b[0;34m.\u001b[0m\u001b[0mremove\u001b[0m\u001b[0;34m(\u001b[0m\u001b[0mos\u001b[0m\u001b[0;34m.\u001b[0m\u001b[0mpath\u001b[0m\u001b[0;34m.\u001b[0m\u001b[0mjoin\u001b[0m\u001b[0;34m(\u001b[0m\u001b[0;34m'test_module'\u001b[0m\u001b[0;34m,\u001b[0m \u001b[0;34m'submodule'\u001b[0m\u001b[0;34m,\u001b[0m \u001b[0;34m'__init__.py'\u001b[0m\u001b[0;34m)\u001b[0m\u001b[0;34m)\u001b[0m\u001b[0;34m\u001b[0m\u001b[0m\n\u001b[0m\u001b[1;32m      4\u001b[0m \u001b[0mos\u001b[0m\u001b[0;34m.\u001b[0m\u001b[0mrmdir\u001b[0m\u001b[0;34m(\u001b[0m\u001b[0;34m\"test_module/submodule\"\u001b[0m\u001b[0;34m)\u001b[0m\u001b[0;34m\u001b[0m\u001b[0m\n\u001b[1;32m      5\u001b[0m \u001b[0mos\u001b[0m\u001b[0;34m.\u001b[0m\u001b[0mremove\u001b[0m\u001b[0;34m(\u001b[0m\u001b[0mos\u001b[0m\u001b[0;34m.\u001b[0m\u001b[0mpath\u001b[0m\u001b[0;34m.\u001b[0m\u001b[0mjoin\u001b[0m\u001b[0;34m(\u001b[0m\u001b[0;34m'test_module'\u001b[0m\u001b[0;34m,\u001b[0m \u001b[0;34m'myroutine.py'\u001b[0m\u001b[0;34m)\u001b[0m\u001b[0;34m)\u001b[0m\u001b[0;34m\u001b[0m\u001b[0m\n",
      "\u001b[0;31mFileNotFoundError\u001b[0m: [Errno 2] No such file or directory: 'test_module/submodule/__init__.py'"
     ]
    }
   ],
   "source": [
    "#@solution\n",
    "# cleanup\n",
    "os.remove(os.path.join('test_module', 'submodule', '__init__.py'))\n",
    "os.rmdir(\"test_module/submodule\")\n",
    "os.remove(os.path.join('test_module', 'myroutine.py'))\n",
    "os.remove(os.path.join('test_module', '__init__.py'))\n",
    "os.rmdir(\"test_module\")"
   ]
  },
  {
   "cell_type": "markdown",
   "metadata": {},
   "source": [
    "# Run a own file"
   ]
  },
  {
   "cell_type": "markdown",
   "metadata": {},
   "source": [
    "Let's make our file `myroutine.py` importable but also executable as python script."
   ]
  },
  {
   "cell_type": "code",
   "execution_count": 45,
   "metadata": {
    "ExecuteTime": {
     "end_time": "2018-10-11T14:25:42.155549Z",
     "start_time": "2018-10-11T14:25:42.152043Z"
    }
   },
   "outputs": [
    {
     "name": "stdout",
     "output_type": "stream",
     "text": [
      "Writing myroutine.py\n"
     ]
    }
   ],
   "source": [
    "%%writefile myroutine.py\n",
    "\n",
    "def get_city(name, locations):\n",
    "    \"Function to get the city for a person\"\n",
    "    found = None\n",
    "    for city, members in locations.items():\n",
    "        if name in members:\n",
    "            found=city\n",
    "            return found\n",
    "    assert found is not None, \"No City found\"\n",
    "\n",
    "def main(ages, locations, fname='results.txt'):\n",
    "    \"our main function\"\n",
    "    sorted_list = sorted(ages.items(), key=lambda x: x[1])\n",
    "    fp = open(fname, 'w')\n",
    "    for name, age in sorted_list:\n",
    "        city = get_city(name, locations)\n",
    "        fp.write('{} is {} years old and lives in {}.\\n'.format(name, age, city))\n",
    "    fp.close()"
   ]
  },
  {
   "cell_type": "markdown",
   "metadata": {},
   "source": [
    "As first test we add a print statement.\n",
    "```python\n",
    "print(\"My awesome script\")\n",
    "```"
   ]
  },
  {
   "cell_type": "code",
   "execution_count": 46,
   "metadata": {
    "ExecuteTime": {
     "end_time": "2018-10-11T14:29:41.191455Z",
     "start_time": "2018-10-11T14:29:41.187833Z"
    }
   },
   "outputs": [
    {
     "ename": "SyntaxError",
     "evalue": "invalid syntax (<ipython-input-46-8a190dbf8cae>, line 2)",
     "output_type": "error",
     "traceback": [
      "\u001b[0;36m  File \u001b[0;32m\"<ipython-input-46-8a190dbf8cae>\"\u001b[0;36m, line \u001b[0;32m2\u001b[0m\n\u001b[0;31m    %%writefile myroutine.py\u001b[0m\n\u001b[0m    ^\u001b[0m\n\u001b[0;31mSyntaxError\u001b[0m\u001b[0;31m:\u001b[0m invalid syntax\n"
     ]
    }
   ],
   "source": [
    "#@solution\n",
    "%%writefile myroutine.py\n",
    "\n",
    "def get_city(name, locations):\n",
    "    \"Function to get the city for a person\"\n",
    "    found = None\n",
    "    for city, members in locations.items():\n",
    "        if name in members:\n",
    "            found=city\n",
    "            return found\n",
    "    assert found is not None, \"No City found\"\n",
    "\n",
    "def main(ages, locations, fname='results.txt'):\n",
    "    \"our main function\"\n",
    "    sorted_list = sorted(ages.items(), key=lambda x: x[1])\n",
    "    fp = open(fname, 'w')\n",
    "    for name, age in sorted_list:\n",
    "        city = get_city(name, locations)\n",
    "        fp.write('{} is {} years old and lives in {}.\\n'.format(name, age, city))\n",
    "    fp.close()\n",
    "\n",
    "print(\"My awesome script\")"
   ]
  },
  {
   "cell_type": "markdown",
   "metadata": {},
   "source": [
    "Let's test it"
   ]
  },
  {
   "cell_type": "code",
   "execution_count": 47,
   "metadata": {
    "ExecuteTime": {
     "end_time": "2018-10-11T14:29:50.622976Z",
     "start_time": "2018-10-11T14:29:50.612889Z"
    }
   },
   "outputs": [],
   "source": [
    "#@solution\n",
    "%run myroutine.py"
   ]
  },
  {
   "cell_type": "markdown",
   "metadata": {},
   "source": [
    "Let's reload it"
   ]
  },
  {
   "cell_type": "code",
   "execution_count": 48,
   "metadata": {
    "ExecuteTime": {
     "end_time": "2018-10-11T14:30:51.394761Z",
     "start_time": "2018-10-11T14:30:51.383277Z"
    }
   },
   "outputs": [
    {
     "ename": "NameError",
     "evalue": "name 'myroutine' is not defined",
     "output_type": "error",
     "traceback": [
      "\u001b[0;31m---------------------------------------------------------------------------\u001b[0m",
      "\u001b[0;31mNameError\u001b[0m                                 Traceback (most recent call last)",
      "\u001b[0;32m<ipython-input-48-5bdfb8af34f4>\u001b[0m in \u001b[0;36m<module>\u001b[0;34m()\u001b[0m\n\u001b[1;32m      1\u001b[0m \u001b[0;31m#@solution\u001b[0m\u001b[0;34m\u001b[0m\u001b[0;34m\u001b[0m\u001b[0m\n\u001b[0;32m----> 2\u001b[0;31m \u001b[0mreload\u001b[0m\u001b[0;34m(\u001b[0m\u001b[0mmyroutine\u001b[0m\u001b[0;34m)\u001b[0m\u001b[0;34m\u001b[0m\u001b[0m\n\u001b[0m",
      "\u001b[0;31mNameError\u001b[0m: name 'myroutine' is not defined"
     ]
    }
   ],
   "source": [
    "#@solution\n",
    "reload(myroutine)"
   ]
  },
  {
   "cell_type": "markdown",
   "metadata": {},
   "source": [
    " \n",
    "\n",
    "It seems that everything in the script is executed when imported, but maybe we can avoid it."
   ]
  },
  {
   "cell_type": "markdown",
   "metadata": {},
   "source": [
    "If we want to have a file which we can `import` as module to get its `functions` but also\n",
    "is able to be used as script, we can use a construct as:\n",
    "```python\n",
    "if __name__ == '__main__':\n",
    "    command()\n",
    "```\n",
    "To make sure some code is only run during execution and not when imported."
   ]
  },
  {
   "cell_type": "code",
   "execution_count": 49,
   "metadata": {
    "ExecuteTime": {
     "end_time": "2018-10-11T14:32:17.011261Z",
     "start_time": "2018-10-11T14:32:17.008629Z"
    }
   },
   "outputs": [
    {
     "data": {
      "text/plain": [
       "'__main__'"
      ]
     },
     "execution_count": 49,
     "metadata": {},
     "output_type": "execute_result"
    }
   ],
   "source": [
    "#@solution\n",
    "__name__"
   ]
  },
  {
   "cell_type": "markdown",
   "metadata": {},
   "source": [
    "Let's test it in the script by adding.\n",
    "```python\n",
    "print('My name is {}'.format(__name__))\n",
    "```"
   ]
  },
  {
   "cell_type": "code",
   "execution_count": 50,
   "metadata": {
    "ExecuteTime": {
     "end_time": "2018-10-11T14:34:41.128549Z",
     "start_time": "2018-10-11T14:34:41.120776Z"
    }
   },
   "outputs": [
    {
     "ename": "SyntaxError",
     "evalue": "invalid syntax (<ipython-input-50-ebe46d04d3f0>, line 2)",
     "output_type": "error",
     "traceback": [
      "\u001b[0;36m  File \u001b[0;32m\"<ipython-input-50-ebe46d04d3f0>\"\u001b[0;36m, line \u001b[0;32m2\u001b[0m\n\u001b[0;31m    %%writefile myroutine.py\u001b[0m\n\u001b[0m    ^\u001b[0m\n\u001b[0;31mSyntaxError\u001b[0m\u001b[0;31m:\u001b[0m invalid syntax\n"
     ]
    }
   ],
   "source": [
    "#@solution\n",
    "%%writefile myroutine.py\n",
    "\n",
    "def get_city(name, locations):\n",
    "    \"Function to get the city for a person\"\n",
    "    found = None\n",
    "    for city, members in locations.items():\n",
    "        if name in members:\n",
    "            found=city\n",
    "            return found\n",
    "    assert found is not None, \"No City found\"\n",
    "\n",
    "def main(ages, locations, fname='results.txt'):\n",
    "    \"our main function\"\n",
    "    sorted_list = sorted(ages.items(), key=lambda x: x[1])\n",
    "    fp = open(fname, 'w')\n",
    "    for name, age in sorted_list:\n",
    "        city = get_city(name, locations)\n",
    "        fp.write('{} is {} years old and lives in {}.\\n'.format(name, age, city))\n",
    "    fp.close()\n",
    "\n",
    "print(\"My awesome script\")\n",
    "print('My name is {}'.format(__name__))"
   ]
  },
  {
   "cell_type": "code",
   "execution_count": 51,
   "metadata": {
    "ExecuteTime": {
     "end_time": "2018-10-11T14:34:41.326492Z",
     "start_time": "2018-10-11T14:34:41.316306Z"
    }
   },
   "outputs": [],
   "source": [
    "#@solution\n",
    "%run myroutine.py"
   ]
  },
  {
   "cell_type": "code",
   "execution_count": 52,
   "metadata": {
    "ExecuteTime": {
     "end_time": "2018-10-11T14:34:42.260759Z",
     "start_time": "2018-10-11T14:34:42.211003Z"
    }
   },
   "outputs": [
    {
     "ename": "NameError",
     "evalue": "name 'myroutine' is not defined",
     "output_type": "error",
     "traceback": [
      "\u001b[0;31m---------------------------------------------------------------------------\u001b[0m",
      "\u001b[0;31mNameError\u001b[0m                                 Traceback (most recent call last)",
      "\u001b[0;32m<ipython-input-52-5bdfb8af34f4>\u001b[0m in \u001b[0;36m<module>\u001b[0;34m()\u001b[0m\n\u001b[1;32m      1\u001b[0m \u001b[0;31m#@solution\u001b[0m\u001b[0;34m\u001b[0m\u001b[0;34m\u001b[0m\u001b[0m\n\u001b[0;32m----> 2\u001b[0;31m \u001b[0mreload\u001b[0m\u001b[0;34m(\u001b[0m\u001b[0mmyroutine\u001b[0m\u001b[0;34m)\u001b[0m\u001b[0;34m\u001b[0m\u001b[0m\n\u001b[0m",
      "\u001b[0;31mNameError\u001b[0m: name 'myroutine' is not defined"
     ]
    }
   ],
   "source": [
    "#@solution\n",
    "reload(myroutine)"
   ]
  },
  {
   "cell_type": "markdown",
   "metadata": {},
   "source": [
    "So it seems `__name__` depends on the location where its execute, let's use it."
   ]
  },
  {
   "cell_type": "code",
   "execution_count": 53,
   "metadata": {
    "ExecuteTime": {
     "end_time": "2018-10-11T14:35:39.284890Z",
     "start_time": "2018-10-11T14:35:39.279030Z"
    }
   },
   "outputs": [
    {
     "ename": "SyntaxError",
     "evalue": "invalid syntax (<ipython-input-53-cf1fa5b99dfd>, line 2)",
     "output_type": "error",
     "traceback": [
      "\u001b[0;36m  File \u001b[0;32m\"<ipython-input-53-cf1fa5b99dfd>\"\u001b[0;36m, line \u001b[0;32m2\u001b[0m\n\u001b[0;31m    %%writefile myroutine.py\u001b[0m\n\u001b[0m    ^\u001b[0m\n\u001b[0;31mSyntaxError\u001b[0m\u001b[0;31m:\u001b[0m invalid syntax\n"
     ]
    }
   ],
   "source": [
    "#@solution\n",
    "%%writefile myroutine.py\n",
    "\n",
    "def get_city(name, locations):\n",
    "    \"Function to get the city for a person\"\n",
    "    found = None\n",
    "    for city, members in locations.items():\n",
    "        if name in members:\n",
    "            found=city\n",
    "            return found\n",
    "    assert found is not None, \"No City found\"\n",
    "\n",
    "def main(ages, locations, fname='results.txt'):\n",
    "    \"our main function\"\n",
    "    sorted_list = sorted(ages.items(), key=lambda x: x[1])\n",
    "    fp = open(fname, 'w')\n",
    "    for name, age in sorted_list:\n",
    "        city = get_city(name, locations)\n",
    "        fp.write('{} is {} years old and lives in {}.\\n'.format(name, age, city))\n",
    "    fp.close()\n",
    "    \n",
    "if __name__ == '__main__':\n",
    "    print(\"My awesome script\")\n",
    "    print('My name is {}'.format(__name__))"
   ]
  },
  {
   "cell_type": "code",
   "execution_count": 54,
   "metadata": {
    "ExecuteTime": {
     "end_time": "2018-10-11T14:35:58.583987Z",
     "start_time": "2018-10-11T14:35:58.550357Z"
    }
   },
   "outputs": [],
   "source": [
    "#@solution\n",
    "%run myroutine.py"
   ]
  },
  {
   "cell_type": "code",
   "execution_count": 55,
   "metadata": {
    "ExecuteTime": {
     "end_time": "2018-10-11T14:36:00.105122Z",
     "start_time": "2018-10-11T14:36:00.040136Z"
    }
   },
   "outputs": [
    {
     "ename": "NameError",
     "evalue": "name 'myroutine' is not defined",
     "output_type": "error",
     "traceback": [
      "\u001b[0;31m---------------------------------------------------------------------------\u001b[0m",
      "\u001b[0;31mNameError\u001b[0m                                 Traceback (most recent call last)",
      "\u001b[0;32m<ipython-input-55-5bdfb8af34f4>\u001b[0m in \u001b[0;36m<module>\u001b[0;34m()\u001b[0m\n\u001b[1;32m      1\u001b[0m \u001b[0;31m#@solution\u001b[0m\u001b[0;34m\u001b[0m\u001b[0;34m\u001b[0m\u001b[0m\n\u001b[0;32m----> 2\u001b[0;31m \u001b[0mreload\u001b[0m\u001b[0;34m(\u001b[0m\u001b[0mmyroutine\u001b[0m\u001b[0;34m)\u001b[0m\u001b[0;34m\u001b[0m\u001b[0m\n\u001b[0m",
      "\u001b[0;31mNameError\u001b[0m: name 'myroutine' is not defined"
     ]
    }
   ],
   "source": [
    "#@solution\n",
    "reload(myroutine)"
   ]
  },
  {
   "cell_type": "markdown",
   "metadata": {},
   "source": [
    "Everything seems to work now."
   ]
  },
  {
   "cell_type": "markdown",
   "metadata": {},
   "source": [
    "s\n",
    "\n",
    "If we want to make that script usable we need some data.\n",
    "\n",
    "Checkout `customer_data.json`."
   ]
  },
  {
   "cell_type": "markdown",
   "metadata": {},
   "source": [
    "We can import the data using the package `json`.\n",
    "```python\n",
    "import json\n",
    "fp = open(\"customer_data.json\")\n",
    "json.load(fp)  # fp : is a file pointer\n",
    "\n",
    "# or directly\n",
    "json.load(open(\"customer_data.json\"))\n",
    "```"
   ]
  },
  {
   "cell_type": "code",
   "execution_count": 56,
   "metadata": {
    "ExecuteTime": {
     "end_time": "2018-10-11T14:57:45.547654Z",
     "start_time": "2018-10-11T14:57:45.545779Z"
    }
   },
   "outputs": [],
   "source": [
    "#@solution\n",
    "import json"
   ]
  },
  {
   "cell_type": "code",
   "execution_count": 57,
   "metadata": {
    "ExecuteTime": {
     "end_time": "2018-10-11T14:57:45.744036Z",
     "start_time": "2018-10-11T14:57:45.738868Z"
    }
   },
   "outputs": [],
   "source": [
    "#@solution\n",
    "data = json.load(open(\"customer_data.json\"))"
   ]
  },
  {
   "cell_type": "markdown",
   "metadata": {},
   "source": [
    "let's test it"
   ]
  },
  {
   "cell_type": "code",
   "execution_count": 58,
   "metadata": {
    "ExecuteTime": {
     "end_time": "2018-10-11T14:58:02.899688Z",
     "start_time": "2018-10-11T14:58:02.897394Z"
    }
   },
   "outputs": [
    {
     "data": {
      "text/plain": [
       "2"
      ]
     },
     "execution_count": 58,
     "metadata": {},
     "output_type": "execute_result"
    }
   ],
   "source": [
    "#@solution\n",
    "len(data)"
   ]
  },
  {
   "cell_type": "code",
   "execution_count": 59,
   "metadata": {
    "ExecuteTime": {
     "end_time": "2018-10-11T14:58:03.948453Z",
     "start_time": "2018-10-11T14:58:03.932923Z"
    }
   },
   "outputs": [
    {
     "data": {
      "text/plain": [
       "{'Aaron Lennon': '30',\n",
       " 'Abigail Hogle': '51',\n",
       " 'Agueda Macleod': '57',\n",
       " 'Alexandra Burgio': '33',\n",
       " 'Alexia Northrop': '45',\n",
       " 'Allison Kintz': '26',\n",
       " 'Althea Weddle': '25',\n",
       " 'Amiee Domenech': '46',\n",
       " 'Amina Vick': '52',\n",
       " 'Anika Folkerts': '40',\n",
       " 'Annabell Pille': '32',\n",
       " 'Argelia Oakley': '66',\n",
       " 'Aron Leclaire': '51',\n",
       " 'Ashlea Bulloch': '44',\n",
       " 'Ashlyn Sager': '39',\n",
       " 'Barbar Tichenor': '44',\n",
       " 'Benita Morgenstern': '57',\n",
       " 'Bernice Casali': '67',\n",
       " 'Bessie Dillingham': '41',\n",
       " 'Bobby Maresca': '45',\n",
       " 'Boyd Grignon': '57',\n",
       " 'Brandee Smit': '31',\n",
       " 'Brigitte Poyner': '25',\n",
       " 'Britni Mines': '36',\n",
       " 'Cameron Gold': '33',\n",
       " 'Candice Mcinerney': '65',\n",
       " 'Carlena Tillison': '27',\n",
       " 'Carmelia Emling': '66',\n",
       " 'Catherin Joye': '66',\n",
       " 'Cathryn Kieser': '38',\n",
       " 'Cayla Poydras': '37',\n",
       " 'Chadwick Wessels': '50',\n",
       " 'Chantay Vibbert': '24',\n",
       " 'Charisse Tetrault': '57',\n",
       " 'Charley Paradise': '33',\n",
       " 'Charline Blouin': '23',\n",
       " 'Chastity Ruggeri': '34',\n",
       " 'Christy Keniston': '23',\n",
       " 'Cinda Chen': '33',\n",
       " 'Cindi Mallette': '28',\n",
       " 'Corine Borey': '65',\n",
       " 'Dani Jessen': '23',\n",
       " 'Daniell Minarik': '36',\n",
       " 'Dann Reali': '64',\n",
       " 'Darryl Rottman': '60',\n",
       " 'Daysi Mcculloch': '57',\n",
       " 'Debbi Northern': '41',\n",
       " 'Devona Douthitt': '61',\n",
       " 'Dianna Harring': '35',\n",
       " 'Doloris Bosarge': '22',\n",
       " 'Dyan Haugland': '58',\n",
       " 'Dyan Maskell': '26',\n",
       " 'Elenore Amezquita': '65',\n",
       " 'Elton Odowd': '48',\n",
       " 'Elva Malagon': '64',\n",
       " 'Emerald Considine': '36',\n",
       " 'Enedina Lasley': '23',\n",
       " 'Eunice Lown': '49',\n",
       " 'Farrah Wischmeier': '38',\n",
       " 'Fatimah Hollowell': '45',\n",
       " 'Felipe Kitzman': '38',\n",
       " 'Flor Dorais': '36',\n",
       " 'Franklyn Delahoussaye': '65',\n",
       " 'Fredericka Wherry': '28',\n",
       " 'Gerald Haywood': '32',\n",
       " 'Gerardo Field': '39',\n",
       " 'Gerda Holthaus': '65',\n",
       " 'Ginny Geissler': '19',\n",
       " 'Greg Loach': '30',\n",
       " 'Gwenn Mabee': '33',\n",
       " 'Hildegard Demery': '59',\n",
       " 'Ignacia Tomasek': '44',\n",
       " 'Ignacio Marconi': '41',\n",
       " 'Inge Prestidge': '26',\n",
       " 'Isabella Hardisty': '61',\n",
       " 'Ivy Roloff': '61',\n",
       " 'Jacinta Boudreaux': '63',\n",
       " 'Jayna Esquivel': '35',\n",
       " 'Jeanine Ayars': '55',\n",
       " 'Jeannine Rieck': '23',\n",
       " 'Jed Sydnor': '54',\n",
       " 'Jenna Porco': '51',\n",
       " 'Jerilyn Whitchurch': '19',\n",
       " 'Jess Rosen': '28',\n",
       " 'Jewel Darden': '24',\n",
       " 'Joelle Rameau': '23',\n",
       " 'Johanna Harten': '59',\n",
       " 'John Isabel': '44',\n",
       " 'Jude Stott': '60',\n",
       " 'Justine Buettner': '64',\n",
       " 'Ka Espada': '49',\n",
       " 'Kacy Dauer': '51',\n",
       " 'Kandi Kennedy': '66',\n",
       " 'Kara Hinkel': '64',\n",
       " 'Karima Tongue': '35',\n",
       " 'Keesha Delmont': '18',\n",
       " 'Kena Maney': '28',\n",
       " 'Kenia Hathorn': '46',\n",
       " 'Kenny Mcgivney': '48',\n",
       " 'Keri Baldridge': '29',\n",
       " 'Kina Fendley': '50',\n",
       " 'Kurt Hibner': '40',\n",
       " 'Kyla Dills': '31',\n",
       " 'Lacey Mellish': '50',\n",
       " 'Lakesha Rook': '49',\n",
       " 'Lance Edmunds': '47',\n",
       " 'Lanora Lyle': '66',\n",
       " 'Lara Watwood': '26',\n",
       " 'Larhonda Oleson': '40',\n",
       " 'Lavonda Laureano': '24',\n",
       " 'Leida Greaney': '25',\n",
       " 'Lenny Clickner': '45',\n",
       " 'Leona Isakson': '23',\n",
       " 'Leonarda Livengood': '45',\n",
       " 'Leontine Hobaugh': '27',\n",
       " 'Liana Furr': '22',\n",
       " 'Lianne Hodder': '45',\n",
       " 'Lisbeth Beamer': '45',\n",
       " 'Loria Donadio': '31',\n",
       " 'Lorita Eckel': '27',\n",
       " 'Lourie Chee': '54',\n",
       " 'Luciano Mcquaig': '38',\n",
       " 'Lucila Sankey': '56',\n",
       " 'Ludivina Laughter': '18',\n",
       " 'Luvenia Emigh': '50',\n",
       " 'Madie Nordin': '38',\n",
       " 'Marcelo Vandenbosch': '64',\n",
       " 'Marcos Edington': '62',\n",
       " 'Mariela Shadduck': '60',\n",
       " 'Marquerite Deherrera': '45',\n",
       " 'Marsha Tsan': '56',\n",
       " 'Martha Stough': '65',\n",
       " 'Max Blaney': '49',\n",
       " 'Mayra Martinez': '37',\n",
       " 'Melania Truss': '21',\n",
       " 'Melina Hurwitz': '39',\n",
       " 'Merrie Wittig': '58',\n",
       " 'Mimi Verdugo': '40',\n",
       " 'Mirtha Grego': '57',\n",
       " 'Moises Goley': '36',\n",
       " 'Molly Husby': '21',\n",
       " 'Monika Jennison': '38',\n",
       " 'Nanci Pushard': '32',\n",
       " 'Nia Barkett': '28',\n",
       " 'Nona Spada': '46',\n",
       " 'Noreen Konrad': '33',\n",
       " 'Patience Harnden': '32',\n",
       " 'Patrick Rahimi': '29',\n",
       " 'Pearly Navas': '34',\n",
       " 'Peg Hansen': '43',\n",
       " 'Pinkie Mouser': '35',\n",
       " 'Polly Mccarroll': '37',\n",
       " 'Porsche Birden': '47',\n",
       " 'Reina Mikel': '32',\n",
       " 'Renate Becnel': '29',\n",
       " 'Reta Gritton': '21',\n",
       " 'Rhett Claybrook': '64',\n",
       " 'Rhona Marciniak': '61',\n",
       " 'Rich Cloutier': '29',\n",
       " 'Rina Crafts': '49',\n",
       " 'Rita Leaman': '48',\n",
       " 'Rosaura Vancleave': '45',\n",
       " 'Rosie Horsman': '26',\n",
       " 'Rosita Witham': '23',\n",
       " 'Rossana Mcdougal': '41',\n",
       " 'Royce Ghoston': '61',\n",
       " 'Rubi Thronson': '50',\n",
       " 'Rubin Helbert': '41',\n",
       " 'Rubye Ferro': '31',\n",
       " 'Ryan Feathers': '59',\n",
       " 'Santana Eyler': '37',\n",
       " 'Seymour Madrid': '32',\n",
       " 'Sharen Hearst': '30',\n",
       " 'Sharyn Zimmerman': '64',\n",
       " 'Shasta Fennell': '48',\n",
       " 'Shawnta Brescia': '42',\n",
       " 'Shelby Gowdy': '43',\n",
       " 'Shenna Spero': '55',\n",
       " 'Sherry Ruben': '21',\n",
       " 'Sina Laliberte': '53',\n",
       " 'Stacy Hatton': '30',\n",
       " 'Stephaine Rado': '27',\n",
       " 'Stephenie Maffucci': '50',\n",
       " 'Sunny Amon': '61',\n",
       " 'Susan Haven': '21',\n",
       " 'Suzette Harrah': '21',\n",
       " 'Ta Sabir': '21',\n",
       " 'Tamie Luckie': '42',\n",
       " 'Tana Crail': '22',\n",
       " 'Tawana Westendorf': '64',\n",
       " 'Theodora Gaw': '67',\n",
       " 'Tiffiny Kesner': '33',\n",
       " 'Tona Browning': '28',\n",
       " 'Tressie Bartell': '45',\n",
       " 'Trey Thiel': '18',\n",
       " 'Valarie East': '61',\n",
       " 'Valery Shute': '55',\n",
       " 'Van Fludd': '39',\n",
       " 'Yelena Mauger': '32',\n",
       " 'Yvone Iles': '18'}"
      ]
     },
     "execution_count": 59,
     "metadata": {},
     "output_type": "execute_result"
    }
   ],
   "source": [
    "#@solution\n",
    "data[0]"
   ]
  },
  {
   "cell_type": "code",
   "execution_count": 60,
   "metadata": {
    "ExecuteTime": {
     "end_time": "2018-10-11T14:58:09.266905Z",
     "start_time": "2018-10-11T14:58:09.263073Z"
    }
   },
   "outputs": [],
   "source": [
    "#@solution\n",
    "ages, locations = data"
   ]
  },
  {
   "cell_type": "markdown",
   "metadata": {
    "ExecuteTime": {
     "end_time": "2018-10-11T14:58:15.856187Z",
     "start_time": "2018-10-11T14:58:15.851068Z"
    }
   },
   "source": [
    "Now we extent our script so we can give it an arbitrary file."
   ]
  },
  {
   "cell_type": "code",
   "execution_count": 61,
   "metadata": {},
   "outputs": [
    {
     "ename": "SyntaxError",
     "evalue": "invalid syntax (<ipython-input-61-3ec6b2a0acb6>, line 2)",
     "output_type": "error",
     "traceback": [
      "\u001b[0;36m  File \u001b[0;32m\"<ipython-input-61-3ec6b2a0acb6>\"\u001b[0;36m, line \u001b[0;32m2\u001b[0m\n\u001b[0;31m    %%writefile myroutine.py\u001b[0m\n\u001b[0m    ^\u001b[0m\n\u001b[0;31mSyntaxError\u001b[0m\u001b[0;31m:\u001b[0m invalid syntax\n"
     ]
    }
   ],
   "source": [
    "#@solution\n",
    "%%writefile myroutine.py\n",
    "\n",
    "def get_city(name, locations):\n",
    "    \"Function to get the city for a person\"\n",
    "    found = None\n",
    "    for city, members in locations.items():\n",
    "        if name in members:\n",
    "            found=city\n",
    "            return found\n",
    "    assert found is not None, \"No City found\"\n",
    "\n",
    "def main(ages, locations, fname='results.txt'):\n",
    "    \"our main function\"\n",
    "    sorted_list = sorted(ages.items(), key=lambda x: x[1])\n",
    "    fp = open(fname, 'w')\n",
    "    for name, age in sorted_list:\n",
    "        city = get_city(name, locations)\n",
    "        fp.write('{} is {} years old and lives in {}.\\n'.format(name, age, city))\n",
    "    fp.close()\n",
    "    \n",
    "if __name__ == '__main__':\n",
    "    import json\n",
    "    ages, locations = json.load(open(\"customer_data.json\"))\n",
    "    main(ages, locations, fname='results.txt') "
   ]
  },
  {
   "cell_type": "markdown",
   "metadata": {},
   "source": [
    "If we want to provide the names via command line we can use the `sys` package."
   ]
  },
  {
   "cell_type": "code",
   "execution_count": 62,
   "metadata": {
    "ExecuteTime": {
     "end_time": "2018-10-11T15:02:07.230015Z",
     "start_time": "2018-10-11T15:02:07.227232Z"
    }
   },
   "outputs": [],
   "source": [
    "#@solution\n",
    "import sys"
   ]
  },
  {
   "cell_type": "markdown",
   "metadata": {},
   "source": [
    "We can access the command line arguments with `sys.argv`."
   ]
  },
  {
   "cell_type": "code",
   "execution_count": 63,
   "metadata": {
    "ExecuteTime": {
     "end_time": "2018-10-11T15:04:05.705062Z",
     "start_time": "2018-10-11T15:04:05.695217Z"
    }
   },
   "outputs": [
    {
     "data": {
      "text/plain": [
       "['/home/andrejb/.local/lib/python3.5/site-packages/ipykernel_launcher.py',\n",
       " '-f',\n",
       " '/tmp/tmpoUe8cF.json']"
      ]
     },
     "execution_count": 63,
     "metadata": {},
     "output_type": "execute_result"
    }
   ],
   "source": [
    "#@solution\n",
    "sys.argv"
   ]
  },
  {
   "cell_type": "markdown",
   "metadata": {},
   "source": [
    "Let's put it in our function and make sure it will exit if the input is not provided."
   ]
  },
  {
   "cell_type": "code",
   "execution_count": 64,
   "metadata": {
    "ExecuteTime": {
     "end_time": "2018-10-11T15:11:43.363801Z",
     "start_time": "2018-10-11T15:11:43.353451Z"
    }
   },
   "outputs": [
    {
     "ename": "SyntaxError",
     "evalue": "invalid syntax (<ipython-input-64-87c2269a3aec>, line 2)",
     "output_type": "error",
     "traceback": [
      "\u001b[0;36m  File \u001b[0;32m\"<ipython-input-64-87c2269a3aec>\"\u001b[0;36m, line \u001b[0;32m2\u001b[0m\n\u001b[0;31m    %%writefile myroutine.py\u001b[0m\n\u001b[0m    ^\u001b[0m\n\u001b[0;31mSyntaxError\u001b[0m\u001b[0;31m:\u001b[0m invalid syntax\n"
     ]
    }
   ],
   "source": [
    "#@solution\n",
    "%%writefile myroutine.py\n",
    "\n",
    "def get_city(name, locations):\n",
    "    \"Function to get the city for a person\"\n",
    "    found = None\n",
    "    for city, members in locations.items():\n",
    "        if name in members:\n",
    "            found=city\n",
    "            return found\n",
    "    assert found is not None, \"No City found\"\n",
    "\n",
    "def main(ages, locations, fname='results.txt'):\n",
    "    \"our main function\"\n",
    "    sorted_list = sorted(ages.items(), key=lambda x: x[1])\n",
    "    fp = open(fname, 'w')\n",
    "    for name, age in sorted_list:\n",
    "        city = get_city(name, locations)\n",
    "        fp.write('{} is {} years old and lives in {}.\\n'.format(name, age, city))\n",
    "    fp.close()\n",
    "    \n",
    "if __name__ == '__main__':\n",
    "    import sys\n",
    "    import json\n",
    "    if len(sys.argv) != 3:\n",
    "        print('run: python myroutine.py input.json output.txt')\n",
    "        sys.exit(1)\n",
    "    ages, locations = json.load(open(sys.argv[1]))\n",
    "    main(ages, locations, fname=sys.argv[2]) "
   ]
  },
  {
   "cell_type": "code",
   "execution_count": 65,
   "metadata": {
    "ExecuteTime": {
     "end_time": "2018-10-11T15:11:47.864295Z",
     "start_time": "2018-10-11T15:11:47.859284Z"
    }
   },
   "outputs": [],
   "source": [
    "#@solution\n",
    "%run myroutine.py"
   ]
  },
  {
   "cell_type": "code",
   "execution_count": 66,
   "metadata": {
    "ExecuteTime": {
     "end_time": "2018-10-11T15:11:48.155478Z",
     "start_time": "2018-10-11T15:11:48.145521Z"
    }
   },
   "outputs": [],
   "source": [
    "#@solution\n",
    "%run myroutine.py customer_data.json results1.txt"
   ]
  }
 ],
 "metadata": {
  "kernelspec": {
   "display_name": "Python 3",
   "language": "python",
   "name": "python3"
  },
  "language_info": {
   "codemirror_mode": {
    "name": "ipython",
    "version": 3
   },
   "file_extension": ".py",
   "mimetype": "text/x-python",
   "name": "python",
   "nbconvert_exporter": "python",
   "pygments_lexer": "ipython3",
   "version": "3.5.2"
  },
  "toc": {
   "base_numbering": 1,
   "nav_menu": {},
   "number_sections": true,
   "sideBar": true,
   "skip_h1_title": false,
   "title_cell": "Table of Contents",
   "title_sidebar": "Contents",
   "toc_cell": false,
   "toc_position": {
    "height": "calc(100% - 180px)",
    "left": "10px",
    "top": "150px",
    "width": "243.628px"
   },
   "toc_section_display": true,
   "toc_window_display": true
  }
 },
 "nbformat": 4,
 "nbformat_minor": 2
}
