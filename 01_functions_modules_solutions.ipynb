{
 "cells": [
  {
   "cell_type": "markdown",
   "metadata": {},
   "source": [
    "# Info\n",
    "## Sections\n",
    "- [**Functions**](#Functions)\n",
    "    - [Global and local variables](#Global-and-local-variables)\n",
    "    - [Anonymous Functions](#Anonymous-Functions)\n",
    "- [**Modules**](#Modules)\n",
    "    - [os module](#os-module)\n",
    "    - [Other important modules to work with files and their names](#Few-more-important-modules-to-work-with-files-and-their-names)"
   ]
  },
  {
   "cell_type": "markdown",
   "metadata": {},
   "source": [
    "# Functions"
   ]
  },
  {
   "cell_type": "markdown",
   "metadata": {},
   "source": [
    "Functions have the form `function()`. You allready know a few functions like `print()` or `len()`.\n",
    "\n",
    "Let's have some stupid routine where we do complicated stuff."
   ]
  },
  {
   "cell_type": "markdown",
   "metadata": {},
   "source": [
    "General structure of a function:\n",
    "\n",
    "```python\n",
    "def function_name(parameter_1, parameter_2):\n",
    "    {this is the code in the function}\n",
    "    {more code doing something with the parameters}\n",
    "    {more code}\n",
    "    return {value to return to the main program}\n",
    "{this code isn't in the function}\n",
    "{because it isn't indented}\n",
    "#remember to put a colon \":\" at the end of the line that starts with 'def'\n",
    "```"
   ]
  },
  {
   "cell_type": "markdown",
   "metadata": {},
   "source": [
    "Some stupid repetitive work."
   ]
  },
  {
   "cell_type": "code",
   "execution_count": 2,
   "metadata": {},
   "outputs": [
    {
     "name": "stdout",
     "output_type": "stream",
     "text": [
      "Hello Micha!\n",
      "Hello Sasha!\n",
      "Hello Andrej!\n"
     ]
    }
   ],
   "source": [
    "print('Hello Micha!')\n",
    "print('Hello Sasha!')\n",
    "print('Hello Andrej!')"
   ]
  },
  {
   "cell_type": "markdown",
   "metadata": {},
   "source": [
    "Let's create a function for this to do the work for us."
   ]
  },
  {
   "cell_type": "code",
   "execution_count": 3,
   "metadata": {},
   "outputs": [],
   "source": [
    "#@solution\n",
    "def hello(name):\n",
    "    print(\"Hello {}!\".format(name))"
   ]
  },
  {
   "cell_type": "markdown",
   "metadata": {},
   "source": [
    "As you can see no **output** is created. What happend is that we registered the function under the name `hello`.\n",
    "We can test it with `hello('somename')`."
   ]
  },
  {
   "cell_type": "code",
   "execution_count": 4,
   "metadata": {},
   "outputs": [
    {
     "name": "stdout",
     "output_type": "stream",
     "text": [
      "Hello Micha!\n",
      "Hello Micha!\n",
      "Hello Sasha!\n",
      "Hello Andrej!\n"
     ]
    }
   ],
   "source": [
    "#@solution\n",
    "hello('Micha')\n",
    "for name in ['Micha', 'Sasha', 'Andrej']:\n",
    "    hello(name)"
   ]
  },
  {
   "cell_type": "markdown",
   "metadata": {},
   "source": [
    "Let's test another function. An do some work."
   ]
  },
  {
   "cell_type": "code",
   "execution_count": 5,
   "metadata": {},
   "outputs": [],
   "source": [
    "#@solution\n",
    "def plus(a, b): # we defined function sum, which takes two parameters\n",
    "    return a + b"
   ]
  },
  {
   "cell_type": "code",
   "execution_count": 6,
   "metadata": {},
   "outputs": [
    {
     "data": {
      "text/plain": [
       "122"
      ]
     },
     "execution_count": 6,
     "metadata": {},
     "output_type": "execute_result"
    }
   ],
   "source": [
    "#@solution\n",
    "# we call a function: instead of a and b we provide the values, which this function should use.\n",
    "plus(100, 22)"
   ]
  },
  {
   "cell_type": "markdown",
   "metadata": {},
   "source": [
    "We can also add some defaults to the functions. These arguments are used if no other arguments are passed."
   ]
  },
  {
   "cell_type": "code",
   "execution_count": 7,
   "metadata": {},
   "outputs": [],
   "source": [
    "#@solution\n",
    "def prod(a, b=1):\n",
    "    rv = a * (b+1)\n",
    "    return rv"
   ]
  },
  {
   "cell_type": "code",
   "execution_count": 8,
   "metadata": {},
   "outputs": [
    {
     "data": {
      "text/plain": [
       "4"
      ]
     },
     "execution_count": 8,
     "metadata": {},
     "output_type": "execute_result"
    }
   ],
   "source": [
    "#@solution \n",
    "# lets test it\n",
    "prod(2, 1)"
   ]
  },
  {
   "cell_type": "code",
   "execution_count": 9,
   "metadata": {},
   "outputs": [
    {
     "data": {
      "text/plain": [
       "4"
      ]
     },
     "execution_count": 9,
     "metadata": {},
     "output_type": "execute_result"
    }
   ],
   "source": [
    "#@solution \n",
    "# Now with only one argument\n",
    "prod(2)"
   ]
  },
  {
   "cell_type": "code",
   "execution_count": 10,
   "metadata": {},
   "outputs": [
    {
     "data": {
      "text/plain": [
       "30"
      ]
     },
     "execution_count": 10,
     "metadata": {},
     "output_type": "execute_result"
    }
   ],
   "source": [
    "#@solution\n",
    "# we can also define things explicitly\n",
    "prod(a=10, b=2)"
   ]
  },
  {
   "cell_type": "code",
   "execution_count": 11,
   "metadata": {},
   "outputs": [
    {
     "data": {
      "text/plain": [
       "30"
      ]
     },
     "execution_count": 11,
     "metadata": {},
     "output_type": "execute_result"
    }
   ],
   "source": [
    "#@solution\n",
    "# or reverse the order\n",
    "prod(b=2, a=10)"
   ]
  },
  {
   "cell_type": "markdown",
   "metadata": {},
   "source": [
    "We can also use a not defined number variables."
   ]
  },
  {
   "cell_type": "code",
   "execution_count": 12,
   "metadata": {},
   "outputs": [],
   "source": [
    "#@solution\n",
    "def func(a, *args):\n",
    "    print(\"a =\", a)\n",
    "    print('args =', args)\n",
    "    return len(args)     "
   ]
  },
  {
   "cell_type": "code",
   "execution_count": 13,
   "metadata": {},
   "outputs": [
    {
     "name": "stdout",
     "output_type": "stream",
     "text": [
      "a = 1\n",
      "args = (2, 3, 4, 5)\n"
     ]
    },
    {
     "data": {
      "text/plain": [
       "4"
      ]
     },
     "execution_count": 13,
     "metadata": {},
     "output_type": "execute_result"
    }
   ],
   "source": [
    "#@solution\n",
    "func(1,2,3,4,5)"
   ]
  },
  {
   "cell_type": "markdown",
   "metadata": {},
   "source": [
    "Or we can use an arbitary number of keywords."
   ]
  },
  {
   "cell_type": "code",
   "execution_count": 14,
   "metadata": {},
   "outputs": [],
   "source": [
    "#@solution\n",
    "def func(**kwargs):\n",
    "    print(type(kwargs))\n",
    "    for k, v in kwargs.items():\n",
    "        print(\"{} -> {}\".format(k, v))"
   ]
  },
  {
   "cell_type": "code",
   "execution_count": 15,
   "metadata": {},
   "outputs": [
    {
     "name": "stdout",
     "output_type": "stream",
     "text": [
      "<class 'dict'>\n",
      "c -> 4\n",
      "b -> 3\n",
      "a -> 1\n"
     ]
    }
   ],
   "source": [
    "#@solution\n",
    "func(a=1, b=3, c=4)"
   ]
  },
  {
   "cell_type": "markdown",
   "metadata": {},
   "source": [
    "* **docstring** <br>\n",
    " If we want to keep track on your functions we should add a docstring to them.\n",
    "* **naming** <br>\n",
    "Also try to use convenient names for the function that give a hint on it's function.\n",
    "Seperate words with `_`."
   ]
  },
  {
   "cell_type": "code",
   "execution_count": 16,
   "metadata": {},
   "outputs": [
    {
     "name": "stdout",
     "output_type": "stream",
     "text": [
      "Help on function add_two in module __main__:\n",
      "\n",
      "add_two(a)\n",
      "    Function that adds +2\n",
      "\n"
     ]
    }
   ],
   "source": [
    "#@solution\n",
    "def add_two(a):\n",
    "    \"\"\"\n",
    "    Function that adds +2\n",
    "    \"\"\"\n",
    "    return a+2\n",
    "help(add_two)"
   ]
  },
  {
   "cell_type": "code",
   "execution_count": 17,
   "metadata": {},
   "outputs": [
    {
     "data": {
      "text/plain": [
       "4"
      ]
     },
     "execution_count": 17,
     "metadata": {},
     "output_type": "execute_result"
    }
   ],
   "source": [
    "#@solution\n",
    "add_two(2)"
   ]
  },
  {
   "cell_type": "markdown",
   "metadata": {},
   "source": [
    "## Anonymous Functions"
   ]
  },
  {
   "cell_type": "markdown",
   "metadata": {},
   "source": [
    "Small anonymous functions can be created with the `lambda` keyword, they also called lambda functions in Python because instead of declaring them with the standard `def` keyword, you use the `lambda` keyword. What’s special about this functions is that it has no name. Lambda functions can be used wherever function objects are required. They are syntactically restricted to a single expression. You can use anonymous functions when you require a nameless function for a short period of time and that is created at runtime. "
   ]
  },
  {
   "cell_type": "code",
   "execution_count": 18,
   "metadata": {},
   "outputs": [],
   "source": [
    "#@solution\n",
    "mod = lambda x, y : x % y"
   ]
  },
  {
   "cell_type": "code",
   "execution_count": 19,
   "metadata": {},
   "outputs": [
    {
     "data": {
      "text/plain": [
       "1"
      ]
     },
     "execution_count": 19,
     "metadata": {},
     "output_type": "execute_result"
    }
   ],
   "source": [
    "#@solution\n",
    "mod(5,2)"
   ]
  },
  {
   "cell_type": "markdown",
   "metadata": {},
   "source": [
    "Where can they be usefull? E.g. when you sort a list. And the normal sorting wont work, we can define an extra way to sort."
   ]
  },
  {
   "cell_type": "code",
   "execution_count": 20,
   "metadata": {},
   "outputs": [],
   "source": [
    "#@solution\n",
    "alist = [\"14/2/1999\", \"01/01/2018\", '20/12/2010']"
   ]
  },
  {
   "cell_type": "code",
   "execution_count": 21,
   "metadata": {},
   "outputs": [
    {
     "data": {
      "text/plain": [
       "['01/01/2018', '14/2/1999', '20/12/2010']"
      ]
     },
     "execution_count": 21,
     "metadata": {},
     "output_type": "execute_result"
    }
   ],
   "source": [
    "#@solution\n",
    "sorted(alist)"
   ]
  },
  {
   "cell_type": "code",
   "execution_count": 22,
   "metadata": {},
   "outputs": [
    {
     "data": {
      "text/plain": [
       "['14/2/1999', '20/12/2010', '01/01/2018']"
      ]
     },
     "execution_count": 22,
     "metadata": {},
     "output_type": "execute_result"
    }
   ],
   "source": [
    "#@solution\n",
    "sorted(alist, key=lambda x: x.split('/')[-1])"
   ]
  },
  {
   "cell_type": "code",
   "execution_count": 23,
   "metadata": {},
   "outputs": [
    {
     "data": {
      "text/plain": [
       "['01/01/2018', '20/12/2010', '14/2/1999']"
      ]
     },
     "execution_count": 23,
     "metadata": {},
     "output_type": "execute_result"
    }
   ],
   "source": [
    "#@solution\n",
    "sorted(alist, key=lambda x: x.split('/')[-1], reverse=True)"
   ]
  },
  {
   "cell_type": "markdown",
   "metadata": {},
   "source": [
    "## Global and local variables"
   ]
  },
  {
   "cell_type": "markdown",
   "metadata": {},
   "source": [
    "Parameters and variables that are assigned in a called function are said to exist in that function’s local scope. Variables that are assigned outside all functions are said to exist in the global scope. A variable that exists in a local scope is called a local variable, while a variable that exists in the global scope is called a global variable."
   ]
  },
  {
   "cell_type": "code",
   "execution_count": 24,
   "metadata": {},
   "outputs": [
    {
     "name": "stdout",
     "output_type": "stream",
     "text": [
      "2\n",
      "3\n",
      "8\n"
     ]
    }
   ],
   "source": [
    "#@solution\n",
    "a=2\n",
    "b=3\n",
    "def func(a):\n",
    "    b = a * 2\n",
    "    return b\n",
    "c = func(4)\n",
    "\n",
    "print(a)\n",
    "print(b)\n",
    "print(c)"
   ]
  },
  {
   "cell_type": "markdown",
   "metadata": {},
   "source": [
    "As you can see we cann't change a variable from the outer scope.\n",
    "\n",
    "But can we access them? As for `a` we used the local variant of `a`."
   ]
  },
  {
   "cell_type": "code",
   "execution_count": 25,
   "metadata": {},
   "outputs": [
    {
     "name": "stdout",
     "output_type": "stream",
     "text": [
      "2\n",
      "3\n",
      "4\n"
     ]
    }
   ],
   "source": [
    "#@solution\n",
    "a=2\n",
    "b=3\n",
    "def func(z):\n",
    "    b = a * 2\n",
    "    return b\n",
    "c = func(4)\n",
    "\n",
    "print(a)\n",
    "print(b)\n",
    "print(c)"
   ]
  },
  {
   "cell_type": "markdown",
   "metadata": {},
   "source": [
    "But we can also try to change a global variable by using `global variable`."
   ]
  },
  {
   "cell_type": "code",
   "execution_count": 27,
   "metadata": {},
   "outputs": [
    {
     "name": "stdout",
     "output_type": "stream",
     "text": [
      "2\n",
      "8\n",
      "8\n"
     ]
    }
   ],
   "source": [
    "#@solution\n",
    "a=2\n",
    "b=3\n",
    "def func(a):\n",
    "    global b\n",
    "    b = a * 2\n",
    "    return b\n",
    "c = func(4)\n",
    "\n",
    "print(a)\n",
    "print(b)\n",
    "print(c)"
   ]
  },
  {
   "cell_type": "markdown",
   "metadata": {},
   "source": [
    "### Passing references to a function\n",
    "\n",
    "_References_ are particularly important for understanding how arguments get passed to functions. When a function is called, the values of the arguments are copied to the _parameter variables_. For `lists` (and `dictionaries`), this means a copy of the _reference_ is used for the parameter (recall an example with copying lists). To see the consequences of this, consider the next examples:"
   ]
  },
  {
   "cell_type": "code",
   "execution_count": 28,
   "metadata": {},
   "outputs": [
    {
     "name": "stdout",
     "output_type": "stream",
     "text": [
      "[1, 2, 3, 4]\n",
      "[1, 2, 3, 4, 5]\n",
      "[1, 2, 3, 4, 5]\n"
     ]
    }
   ],
   "source": [
    "#@solution\n",
    "alist = [1, 2, 3, 4]\n",
    "def add_value(a, value):\n",
    "    a += [value]\n",
    "    return a\n",
    "\n",
    "print(alist)\n",
    "b = add_value(alist, 5)\n",
    "print(b)\n",
    "print(alist)"
   ]
  },
  {
   "cell_type": "markdown",
   "metadata": {},
   "source": [
    "Let's fix this."
   ]
  },
  {
   "cell_type": "code",
   "execution_count": 29,
   "metadata": {},
   "outputs": [
    {
     "name": "stdout",
     "output_type": "stream",
     "text": [
      "[1, 2, 3, 4]\n",
      "[1, 2, 3, 4, 5]\n",
      "[1, 2, 3, 4]\n"
     ]
    }
   ],
   "source": [
    "#@solution\n",
    "alist = [1, 2, 3, 4]\n",
    "def add_value(a, value):\n",
    "    a = list(a) + [5]\n",
    "    return a\n",
    "\n",
    "print(alist)\n",
    "b = add_value(alist, 5)\n",
    "print(b)\n",
    "print(alist)"
   ]
  },
  {
   "cell_type": "markdown",
   "metadata": {},
   "source": [
    "But the method breaks with nested lists."
   ]
  },
  {
   "cell_type": "code",
   "execution_count": 30,
   "metadata": {},
   "outputs": [
    {
     "name": "stdout",
     "output_type": "stream",
     "text": [
      "[1, 2, 3, 4]\n",
      "[1, 1, 3, 4]\n",
      "[1, 2, 3, 4]\n"
     ]
    }
   ],
   "source": [
    "#@solution\n",
    "alist = [1, 2, 3, 4]\n",
    "def add_value(a, value):\n",
    "    a = list(a)\n",
    "    a[1] = 1\n",
    "    return a\n",
    "\n",
    "print(alist)\n",
    "b = add_value(alist, 5)\n",
    "print(b)\n",
    "print(alist)"
   ]
  },
  {
   "cell_type": "code",
   "execution_count": 31,
   "metadata": {},
   "outputs": [
    {
     "name": "stdout",
     "output_type": "stream",
     "text": [
      "[1, [2, 2], 3, 4]\n",
      "[1, [1, 2], 3, 4]\n",
      "[1, [1, 2], 3, 4]\n"
     ]
    }
   ],
   "source": [
    "#@solution\n",
    "alist = [1, [2, 2], 3, 4]\n",
    "def add_value(a, value):\n",
    "    a = list(a)\n",
    "    a[1][0] = 1\n",
    "    return a\n",
    "\n",
    "print(alist)\n",
    "b = add_value(alist, 5)\n",
    "print(b)\n",
    "print(alist)"
   ]
  },
  {
   "cell_type": "markdown",
   "metadata": {},
   "source": [
    " \n",
    "\n",
    "We can solve this by using a function called `deepcopy` form the `copy` module."
   ]
  },
  {
   "cell_type": "code",
   "execution_count": 32,
   "metadata": {},
   "outputs": [
    {
     "name": "stdout",
     "output_type": "stream",
     "text": [
      "[1, [2, 2], 3, 4]\n",
      "[1, [1, 2], 3, 4]\n",
      "[1, [2, 2], 3, 4]\n"
     ]
    }
   ],
   "source": [
    "#@solution\n",
    "from copy import deepcopy\n",
    "\n",
    "alist = [1, [2, 2], 3, 4]\n",
    "def add_value(a, value):\n",
    "    a = deepcopy(a)\n",
    "    a[1][0] = 1\n",
    "    return a\n",
    "\n",
    "print(alist)\n",
    "b = add_value(alist, 5)\n",
    "print(b)\n",
    "print(alist)"
   ]
  },
  {
   "cell_type": "markdown",
   "metadata": {},
   "source": [
    "# Modules"
   ]
  },
  {
   "cell_type": "markdown",
   "metadata": {},
   "source": [
    "As you could see we just imported a _function_ from some other place.\n",
    "\n",
    "This other place is called a _module_ and a convenient way to store prepared functions."
   ]
  },
  {
   "cell_type": "markdown",
   "metadata": {},
   "source": [
    "## `os` module"
   ]
  },
  {
   "cell_type": "markdown",
   "metadata": {},
   "source": [
    "To do all of that, we would need to interact with the operating system. Fortunately, this is simple to do with the `os` module, that provides dozens of functions for interacting with the operating system.  \n",
    "\n",
    "Let's first import it and see some of its functionality."
   ]
  },
  {
   "cell_type": "code",
   "execution_count": 33,
   "metadata": {},
   "outputs": [],
   "source": [
    "#@solution\n",
    "import os"
   ]
  },
  {
   "cell_type": "markdown",
   "metadata": {},
   "source": [
    "A file has two key properties: a _filename_ and a _path_. The _path_ specifies the location of a file on the computer. Every program that runs on your computer has a _current working directory_, or _cwd_. Any filenames or paths that do not begin with the root folder are assumed to be under the current working directory. You can get the current working directory as a string value with the `os.getcwd()`."
   ]
  },
  {
   "cell_type": "code",
   "execution_count": 34,
   "metadata": {},
   "outputs": [
    {
     "data": {
      "text/plain": [
       "'/home/andrejb/Education/python_block_course/python_block_course/src/day_02'"
      ]
     },
     "execution_count": 34,
     "metadata": {},
     "output_type": "execute_result"
    }
   ],
   "source": [
    "#@solution\n",
    "working_dir = os.getcwd()\n",
    "working_dir"
   ]
  },
  {
   "cell_type": "markdown",
   "metadata": {},
   "source": [
    "Notes on different oprating systems: \n",
    "\n",
    "> While folder names and filenames are not case sensitive on `Windows` and `OS X` (normaly), they are case sensitive on `Linux`.\n",
    "\n",
    "> On `Windows`, `paths` are written using backslashes (`\\`) as the separator between folder names. `OS X` and `Linux`, however, use the forward slash (`/`) as their path separator. If you want your programs to work on all operating systems, you will have to write your Python scripts to handle both cases.\n",
    "\n",
    "Fortunately, this is simple to do with the `os.path.join()` function."
   ]
  },
  {
   "cell_type": "code",
   "execution_count": 35,
   "metadata": {
    "ExecuteTime": {
     "end_time": "2018-10-12T15:51:18.872151Z",
     "start_time": "2018-10-12T15:51:18.868231Z"
    }
   },
   "outputs": [],
   "source": [
    "# some list\n",
    "myFiles = ['accounts.txt', 'details.csv', 'invite.docx']"
   ]
  },
  {
   "cell_type": "code",
   "execution_count": 36,
   "metadata": {
    "ExecuteTime": {
     "end_time": "2018-10-12T15:51:19.219815Z",
     "start_time": "2018-10-12T15:51:19.180722Z"
    }
   },
   "outputs": [
    {
     "name": "stdout",
     "output_type": "stream",
     "text": [
      "python_tutorials/python_beginners/course/accounts.txt\n",
      "python_tutorials/python_beginners/course/details.csv\n",
      "python_tutorials/python_beginners/course/invite.docx\n"
     ]
    }
   ],
   "source": [
    "#@solution\n",
    "for filename in myFiles:\n",
    "    print(os.path.join('python_tutorials', 'python_beginners', 'course', filename))"
   ]
  },
  {
   "cell_type": "markdown",
   "metadata": {},
   "source": [
    "Your can create new folders (directories) with the `os.makedirs()` function. If the directory already exists you will get an error message."
   ]
  },
  {
   "cell_type": "code",
   "execution_count": 37,
   "metadata": {},
   "outputs": [],
   "source": [
    "#@solution\n",
    "os.makedirs(os.path.join(working_dir, 'new_subfolder'))"
   ]
  },
  {
   "cell_type": "markdown",
   "metadata": {},
   "source": [
    "We can list our working directory and check if a subfolder was created."
   ]
  },
  {
   "cell_type": "code",
   "execution_count": 38,
   "metadata": {},
   "outputs": [
    {
     "data": {
      "text/plain": [
       "['01_functions_modules_src.ipynb',\n",
       " 'new_subfolder',\n",
       " 'test_module',\n",
       " 'release.sh',\n",
       " 'customer_data.json',\n",
       " 'README.md',\n",
       " '02_own_module_and_files_src.ipynb']"
      ]
     },
     "execution_count": 38,
     "metadata": {},
     "output_type": "execute_result"
    }
   ],
   "source": [
    "#@solution\n",
    "os.listdir(working_dir)"
   ]
  },
  {
   "cell_type": "markdown",
   "metadata": {},
   "source": [
    "We can rename and remove files and directories."
   ]
  },
  {
   "cell_type": "code",
   "execution_count": 39,
   "metadata": {},
   "outputs": [
    {
     "data": {
      "text/plain": [
       "['01_functions_modules_src.ipynb',\n",
       " 'test_module',\n",
       " 'release.sh',\n",
       " 'customer_data.json',\n",
       " 'README.md',\n",
       " '02_own_module_and_files_src.ipynb',\n",
       " 'old_subfolder']"
      ]
     },
     "execution_count": 39,
     "metadata": {},
     "output_type": "execute_result"
    }
   ],
   "source": [
    "#@solution\n",
    "os.rename('new_subfolder', 'old_subfolder')\n",
    "os.listdir(working_dir)"
   ]
  },
  {
   "cell_type": "code",
   "execution_count": 40,
   "metadata": {},
   "outputs": [
    {
     "ename": "IsADirectoryError",
     "evalue": "[Errno 21] Is a directory: 'old_subfolder'",
     "output_type": "error",
     "traceback": [
      "\u001b[0;31m---------------------------------------------------------------------------\u001b[0m",
      "\u001b[0;31mIsADirectoryError\u001b[0m                         Traceback (most recent call last)",
      "\u001b[0;32m<ipython-input-40-9f722e332d19>\u001b[0m in \u001b[0;36m<module>\u001b[0;34m()\u001b[0m\n\u001b[1;32m      1\u001b[0m \u001b[0;31m#@solution\u001b[0m\u001b[0;34m\u001b[0m\u001b[0;34m\u001b[0m\u001b[0m\n\u001b[0;32m----> 2\u001b[0;31m \u001b[0mos\u001b[0m\u001b[0;34m.\u001b[0m\u001b[0mremove\u001b[0m\u001b[0;34m(\u001b[0m\u001b[0;34m'old_subfolder'\u001b[0m\u001b[0;34m)\u001b[0m\u001b[0;34m\u001b[0m\u001b[0m\n\u001b[0m",
      "\u001b[0;31mIsADirectoryError\u001b[0m: [Errno 21] Is a directory: 'old_subfolder'"
     ]
    }
   ],
   "source": [
    "#@solution\n",
    "os.remove('old_subfolder')"
   ]
  },
  {
   "cell_type": "code",
   "execution_count": 41,
   "metadata": {},
   "outputs": [
    {
     "data": {
      "text/plain": [
       "['01_functions_modules_src.ipynb',\n",
       " 'test_module',\n",
       " 'release.sh',\n",
       " 'customer_data.json',\n",
       " 'README.md',\n",
       " '02_own_module_and_files_src.ipynb']"
      ]
     },
     "execution_count": 41,
     "metadata": {},
     "output_type": "execute_result"
    }
   ],
   "source": [
    "#@solution\n",
    "os.rmdir('old_subfolder')\n",
    "os.listdir(working_dir)"
   ]
  },
  {
   "cell_type": "markdown",
   "metadata": {},
   "source": [
    "Other things you can do"
   ]
  },
  {
   "cell_type": "code",
   "execution_count": 42,
   "metadata": {},
   "outputs": [
    {
     "data": {
      "text/plain": [
       "'/home/andrejb/Education/python_block_course/python_block_course/src/day_02/first_file.txt'"
      ]
     },
     "execution_count": 42,
     "metadata": {},
     "output_type": "execute_result"
    }
   ],
   "source": [
    "# Find the absolute path of the argument\n",
    "path = os.path.abspath('first_file.txt')\n",
    "path"
   ]
  },
  {
   "cell_type": "code",
   "execution_count": 43,
   "metadata": {},
   "outputs": [
    {
     "data": {
      "text/plain": [
       "False"
      ]
     },
     "execution_count": 43,
     "metadata": {},
     "output_type": "execute_result"
    }
   ],
   "source": [
    "# Check if a provided path is absolute\n",
    "os.path.isabs('first_file.txt')"
   ]
  },
  {
   "cell_type": "code",
   "execution_count": 44,
   "metadata": {},
   "outputs": [
    {
     "data": {
      "text/plain": [
       "False"
      ]
     },
     "execution_count": 44,
     "metadata": {},
     "output_type": "execute_result"
    }
   ],
   "source": [
    "# Check if the file exists\n",
    "os.path.exists(path)"
   ]
  },
  {
   "cell_type": "code",
   "execution_count": 45,
   "metadata": {},
   "outputs": [
    {
     "name": "stdout",
     "output_type": "stream",
     "text": [
      "first_file.txt\n",
      "/home/andrejb/Education/python_block_course/python_block_course/src/day_02\n",
      "('/home/andrejb/Education/python_block_course/python_block_course/src/day_02', 'first_file.txt')\n",
      "['', 'home', 'andrejb', 'Education', 'python_block_course', 'python_block_course', 'src', 'day_02', 'first_file.txt']\n"
     ]
    },
    {
     "ename": "FileNotFoundError",
     "evalue": "[Errno 2] No such file or directory: '/home/andrejb/Education/python_block_course/python_block_course/src/day_02/first_file.txt'",
     "output_type": "error",
     "traceback": [
      "\u001b[0;31m---------------------------------------------------------------------------\u001b[0m",
      "\u001b[0;31mFileNotFoundError\u001b[0m                         Traceback (most recent call last)",
      "\u001b[0;32m<ipython-input-45-41c074288d4d>\u001b[0m in \u001b[0;36m<module>\u001b[0;34m()\u001b[0m\n\u001b[1;32m     14\u001b[0m \u001b[0;34m\u001b[0m\u001b[0m\n\u001b[1;32m     15\u001b[0m \u001b[0;31m# you can also get the size in bytes of the file in the path argument.\u001b[0m\u001b[0;34m\u001b[0m\u001b[0;34m\u001b[0m\u001b[0m\n\u001b[0;32m---> 16\u001b[0;31m \u001b[0mprint\u001b[0m\u001b[0;34m(\u001b[0m\u001b[0;34m\"Size of a \"\u001b[0m\u001b[0;34m,\u001b[0m\u001b[0mos\u001b[0m\u001b[0;34m.\u001b[0m\u001b[0mpath\u001b[0m\u001b[0;34m.\u001b[0m\u001b[0mbasename\u001b[0m\u001b[0;34m(\u001b[0m\u001b[0mpath\u001b[0m\u001b[0;34m)\u001b[0m\u001b[0;34m,\u001b[0m \u001b[0;34m\"is\"\u001b[0m\u001b[0;34m,\u001b[0m \u001b[0mos\u001b[0m\u001b[0;34m.\u001b[0m\u001b[0mpath\u001b[0m\u001b[0;34m.\u001b[0m\u001b[0mgetsize\u001b[0m\u001b[0;34m(\u001b[0m\u001b[0mpath\u001b[0m\u001b[0;34m)\u001b[0m\u001b[0;34m,\u001b[0m \u001b[0;34m\"bytes.\"\u001b[0m\u001b[0;34m)\u001b[0m\u001b[0;34m\u001b[0m\u001b[0m\n\u001b[0m",
      "\u001b[0;32m/usr/lib/python3.5/genericpath.py\u001b[0m in \u001b[0;36mgetsize\u001b[0;34m(filename)\u001b[0m\n\u001b[1;32m     48\u001b[0m \u001b[0;32mdef\u001b[0m \u001b[0mgetsize\u001b[0m\u001b[0;34m(\u001b[0m\u001b[0mfilename\u001b[0m\u001b[0;34m)\u001b[0m\u001b[0;34m:\u001b[0m\u001b[0;34m\u001b[0m\u001b[0m\n\u001b[1;32m     49\u001b[0m     \u001b[0;34m\"\"\"Return the size of a file, reported by os.stat().\"\"\"\u001b[0m\u001b[0;34m\u001b[0m\u001b[0m\n\u001b[0;32m---> 50\u001b[0;31m     \u001b[0;32mreturn\u001b[0m \u001b[0mos\u001b[0m\u001b[0;34m.\u001b[0m\u001b[0mstat\u001b[0m\u001b[0;34m(\u001b[0m\u001b[0mfilename\u001b[0m\u001b[0;34m)\u001b[0m\u001b[0;34m.\u001b[0m\u001b[0mst_size\u001b[0m\u001b[0;34m\u001b[0m\u001b[0m\n\u001b[0m\u001b[1;32m     51\u001b[0m \u001b[0;34m\u001b[0m\u001b[0m\n\u001b[1;32m     52\u001b[0m \u001b[0;34m\u001b[0m\u001b[0m\n",
      "\u001b[0;31mFileNotFoundError\u001b[0m: [Errno 2] No such file or directory: '/home/andrejb/Education/python_block_course/python_block_course/src/day_02/first_file.txt'"
     ]
    }
   ],
   "source": [
    "# Get a file name from a path\n",
    "print(os.path.basename(path))\n",
    "\n",
    "# Get a string of everything that comes before the last slash in the path argumen\n",
    "print(os.path.dirname(path))\n",
    "\n",
    "# Give you both path to a file and its name\n",
    "print(os.path.split(path))\n",
    "\n",
    "# If you want a list with all foledrs and subfolders separately\n",
    "# you would need to manipulate a path string as a string \n",
    "# and use os.path.sep to define a separetor used in your OS\n",
    "print(path.split(os.path.sep))\n",
    "\n",
    "# you can also get the size in bytes of the file in the path argument.\n",
    "print(\"Size of a \",os.path.basename(path), \"is\", os.path.getsize(path), \"bytes.\")"
   ]
  },
  {
   "cell_type": "code",
   "execution_count": 46,
   "metadata": {},
   "outputs": [
    {
     "data": {
      "text/plain": [
       "False"
      ]
     },
     "execution_count": 46,
     "metadata": {},
     "output_type": "execute_result"
    }
   ],
   "source": [
    "# Check if its a file\n",
    "os.path.isfile('first_file.txt')"
   ]
  },
  {
   "cell_type": "code",
   "execution_count": 47,
   "metadata": {},
   "outputs": [
    {
     "data": {
      "text/plain": [
       "False"
      ]
     },
     "execution_count": 47,
     "metadata": {},
     "output_type": "execute_result"
    }
   ],
   "source": [
    "# or a dir\n",
    "os.path.isdir('first_file.txt')"
   ]
  },
  {
   "cell_type": "markdown",
   "metadata": {},
   "source": [
    "## Few more important modules to work with files and their names"
   ]
  },
  {
   "cell_type": "markdown",
   "metadata": {},
   "source": [
    "The `glob` module provides a function for making file lists from directory wildcard searches:"
   ]
  },
  {
   "cell_type": "code",
   "execution_count": 48,
   "metadata": {},
   "outputs": [
    {
     "data": {
      "text/plain": [
       "['01_functions_modules_src.ipynb', '02_own_module_and_files_src.ipynb']"
      ]
     },
     "execution_count": 48,
     "metadata": {},
     "output_type": "execute_result"
    }
   ],
   "source": [
    "#@solution\n",
    "import glob\n",
    "glob.glob('*.ipynb')"
   ]
  },
  {
   "cell_type": "markdown",
   "metadata": {},
   "source": [
    "This is kinda annozing to write `glob.glob` isn't it?\n",
    "\n",
    "If we only need a single or few functions of a module we can import them alone."
   ]
  },
  {
   "cell_type": "code",
   "execution_count": 49,
   "metadata": {},
   "outputs": [
    {
     "data": {
      "text/plain": [
       "['01_functions_modules_src.ipynb', '02_own_module_and_files_src.ipynb']"
      ]
     },
     "execution_count": 49,
     "metadata": {},
     "output_type": "execute_result"
    }
   ],
   "source": [
    "#@solution\n",
    "from glob import glob\n",
    "glob('*.ipynb')"
   ]
  },
  {
   "cell_type": "markdown",
   "metadata": {},
   "source": [
    "We can also redefine our own name we want to use for it."
   ]
  },
  {
   "cell_type": "code",
   "execution_count": 50,
   "metadata": {},
   "outputs": [],
   "source": [
    "#@solution\n",
    "from os import getcwd as where_am_i"
   ]
  },
  {
   "cell_type": "code",
   "execution_count": 51,
   "metadata": {},
   "outputs": [
    {
     "data": {
      "text/plain": [
       "'/home/andrejb/Education/python_block_course/python_block_course/src/day_02'"
      ]
     },
     "execution_count": 51,
     "metadata": {},
     "output_type": "execute_result"
    }
   ],
   "source": [
    "#@solution\n",
    "where_am_i()"
   ]
  },
  {
   "cell_type": "markdown",
   "metadata": {},
   "source": [
    "Or import submodules"
   ]
  },
  {
   "cell_type": "code",
   "execution_count": 52,
   "metadata": {},
   "outputs": [],
   "source": [
    "#@solution\n",
    "from os.path import exists"
   ]
  },
  {
   "cell_type": "code",
   "execution_count": 53,
   "metadata": {},
   "outputs": [
    {
     "data": {
      "text/plain": [
       "False"
      ]
     },
     "execution_count": 53,
     "metadata": {},
     "output_type": "execute_result"
    }
   ],
   "source": [
    "#@solution\n",
    "exists(\"first_file.txt\")"
   ]
  },
  {
   "cell_type": "code",
   "execution_count": 54,
   "metadata": {},
   "outputs": [],
   "source": []
  },
  {
   "cell_type": "markdown",
   "metadata": {},
   "source": [
    "Another important module is the `re` module.\n",
    "\n",
    "The `re` module provides regular expression tools for advanced `string` processing. For complex matching and manipulation, regular expressions offer succinct, optimized solutions:"
   ]
  },
  {
   "cell_type": "markdown",
   "metadata": {},
   "source": [
    "Let's have some app name or filename and get the version number of it."
   ]
  },
  {
   "cell_type": "code",
   "execution_count": 54,
   "metadata": {},
   "outputs": [
    {
     "data": {
      "text/plain": [
       "'some_coll_name_version1234_bla'"
      ]
     },
     "execution_count": 54,
     "metadata": {},
     "output_type": "execute_result"
    }
   ],
   "source": [
    "app_name = \"some_coll_name_version1234_bla\"\n",
    "app_name"
   ]
  },
  {
   "cell_type": "code",
   "execution_count": 55,
   "metadata": {},
   "outputs": [
    {
     "data": {
      "text/plain": [
       "'1234'"
      ]
     },
     "execution_count": 55,
     "metadata": {},
     "output_type": "execute_result"
    }
   ],
   "source": [
    "#@solution\n",
    "app_name.replace(\"some_coll_name_version\", \"\").replace('_bla', '')"
   ]
  },
  {
   "cell_type": "code",
   "execution_count": 56,
   "metadata": {},
   "outputs": [],
   "source": [
    "#@solution\n",
    "import re"
   ]
  },
  {
   "cell_type": "code",
   "execution_count": 57,
   "metadata": {},
   "outputs": [
    {
     "data": {
      "text/plain": [
       "'___1234_'"
      ]
     },
     "execution_count": 57,
     "metadata": {},
     "output_type": "execute_result"
    }
   ],
   "source": [
    "#@solution\n",
    "re.sub(r\"[a-z]*\", \"\", app_name)"
   ]
  },
  {
   "cell_type": "code",
   "execution_count": 58,
   "metadata": {},
   "outputs": [
    {
     "data": {
      "text/plain": [
       "'1234'"
      ]
     },
     "execution_count": 58,
     "metadata": {},
     "output_type": "execute_result"
    }
   ],
   "source": [
    "#@solution\n",
    "re.sub(r\"[a-z_]*\", \"\", app_name)"
   ]
  },
  {
   "cell_type": "code",
   "execution_count": 59,
   "metadata": {},
   "outputs": [],
   "source": [
    "a_phrase = 'which foot or hand fell1 fastest'"
   ]
  },
  {
   "cell_type": "code",
   "execution_count": 60,
   "metadata": {},
   "outputs": [
    {
     "data": {
      "text/plain": [
       "['foot', 'fell', 'fastest']"
      ]
     },
     "execution_count": 60,
     "metadata": {},
     "output_type": "execute_result"
    }
   ],
   "source": [
    "re.findall(r'\\bf[a-z]*', a_phrase)"
   ]
  }
 ],
 "metadata": {
  "kernelspec": {
   "display_name": "Python 3",
   "language": "python",
   "name": "python3"
  },
  "language_info": {
   "codemirror_mode": {
    "name": "ipython",
    "version": 3
   },
   "file_extension": ".py",
   "mimetype": "text/x-python",
   "name": "python",
   "nbconvert_exporter": "python",
   "pygments_lexer": "ipython3",
   "version": "3.5.2"
  },
  "toc": {
   "base_numbering": 1,
   "nav_menu": {},
   "number_sections": true,
   "sideBar": true,
   "skip_h1_title": false,
   "title_cell": "Table of Contents",
   "title_sidebar": "Contents",
   "toc_cell": false,
   "toc_position": {},
   "toc_section_display": true,
   "toc_window_display": false
  }
 },
 "nbformat": 4,
 "nbformat_minor": 2
}
